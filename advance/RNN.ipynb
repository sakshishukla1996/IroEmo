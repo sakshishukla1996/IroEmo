{
 "cells": [
  {
   "cell_type": "code",
   "execution_count": null,
   "metadata": {
    "id": "OOUjIEQRJymf"
   },
   "outputs": [],
   "source": [
    "!pip install transformers >> /dev/null\n",
    "!pip install datasets >> /dev/null\n",
    "!pip3 install torch >> /dev/null"
   ]
  },
  {
   "cell_type": "code",
   "execution_count": 1,
   "metadata": {
    "executionInfo": {
     "elapsed": 4668,
     "status": "ok",
     "timestamp": 1627549483460,
     "user": {
      "displayName": "Sakshi Shukla",
      "photoUrl": "https://lh3.googleusercontent.com/a-/AOh14Gg0R31KxEHq1SF2o2AnpiIYwwiUqmJyzu_qU_PeLhw=s64",
      "userId": "00536174429907799770"
     },
     "user_tz": -120
    },
    "id": "qr1mNJ6sKEwH"
   },
   "outputs": [],
   "source": [
    "import numpy as np\n",
    "import pandas as pd\n",
    "import matplotlib.pyplot as plt\n",
    "import os\n",
    "import re\n",
    "import sys\n",
    "import string\n",
    "import json\n",
    "import spacy\n",
    "sp = spacy.load('en_core_web_sm')"
   ]
  },
  {
   "cell_type": "code",
   "execution_count": 2,
   "metadata": {
    "executionInfo": {
     "elapsed": 2275,
     "status": "ok",
     "timestamp": 1627549487112,
     "user": {
      "displayName": "Sakshi Shukla",
      "photoUrl": "https://lh3.googleusercontent.com/a-/AOh14Gg0R31KxEHq1SF2o2AnpiIYwwiUqmJyzu_qU_PeLhw=s64",
      "userId": "00536174429907799770"
     },
     "user_tz": -120
    },
    "id": "jt7qFYxzKviG"
   },
   "outputs": [],
   "source": [
    "import tensorflow as tf\n",
    "from tensorflow import keras \n",
    "from tensorflow.keras import layers\n",
    "from sklearn.model_selection import train_test_split\n",
    "from keras.models import Model\n",
    "from keras.preprocessing.text import Tokenizer\n",
    "from keras.preprocessing.sequence import pad_sequences\n",
    "from keras.layers import Input,Embedding,Dense,Flatten\n",
    "from sklearn.feature_extraction.text import TfidfVectorizer\n",
    "from sklearn.metrics import accuracy_score,classification_report"
   ]
  },
  {
   "cell_type": "code",
   "execution_count": 3,
   "metadata": {
    "executionInfo": {
     "elapsed": 217,
     "status": "ok",
     "timestamp": 1627549488989,
     "user": {
      "displayName": "Sakshi Shukla",
      "photoUrl": "https://lh3.googleusercontent.com/a-/AOh14Gg0R31KxEHq1SF2o2AnpiIYwwiUqmJyzu_qU_PeLhw=s64",
      "userId": "00536174429907799770"
     },
     "user_tz": -120
    },
    "id": "7ln72rywKze9"
   },
   "outputs": [],
   "source": [
    "train_path = './../datasets/Emotion_classification_ISEAR/corrected_isear-train.csv'\n",
    "val_path = './../datasets/Emotion_classification_ISEAR/corrected_isear-val.csv'\n",
    "test_path = './../datasets/Emotion_classification_ISEAR/corrected_isear-test.csv'"
   ]
  },
  {
   "cell_type": "code",
   "execution_count": 4,
   "metadata": {
    "executionInfo": {
     "elapsed": 221,
     "status": "ok",
     "timestamp": 1627549490875,
     "user": {
      "displayName": "Sakshi Shukla",
      "photoUrl": "https://lh3.googleusercontent.com/a-/AOh14Gg0R31KxEHq1SF2o2AnpiIYwwiUqmJyzu_qU_PeLhw=s64",
      "userId": "00536174429907799770"
     },
     "user_tz": -120
    },
    "id": "QvRxCAF1K2ZN"
   },
   "outputs": [],
   "source": [
    "def read_data(data):\n",
    "    df = pd.read_csv(data, names=['Label', 'Text', 'NaN'], error_bad_lines=False)\n",
    "    df.drop(columns=['NaN'], axis=1, inplace=True)\n",
    "    return df"
   ]
  },
  {
   "cell_type": "code",
   "execution_count": 5,
   "metadata": {
    "executionInfo": {
     "elapsed": 297,
     "status": "ok",
     "timestamp": 1627549491969,
     "user": {
      "displayName": "Sakshi Shukla",
      "photoUrl": "https://lh3.googleusercontent.com/a-/AOh14Gg0R31KxEHq1SF2o2AnpiIYwwiUqmJyzu_qU_PeLhw=s64",
      "userId": "00536174429907799770"
     },
     "user_tz": -120
    },
    "id": "bzw16Ej_K9zj"
   },
   "outputs": [],
   "source": [
    "train = read_data(train_path)\n",
    "val = read_data(val_path)\n",
    "test = read_data(test_path)"
   ]
  },
  {
   "cell_type": "code",
   "execution_count": 6,
   "metadata": {
    "executionInfo": {
     "elapsed": 7,
     "status": "ok",
     "timestamp": 1627549492795,
     "user": {
      "displayName": "Sakshi Shukla",
      "photoUrl": "https://lh3.googleusercontent.com/a-/AOh14Gg0R31KxEHq1SF2o2AnpiIYwwiUqmJyzu_qU_PeLhw=s64",
      "userId": "00536174429907799770"
     },
     "user_tz": -120
    },
    "id": "CVIvcfsyLAlk"
   },
   "outputs": [],
   "source": [
    "def transform_label(data):\n",
    "    mapping = {'joy': 0, 'fear': 1, 'shame': 2, 'disgust': 3, 'sadness': 4, 'anger': 5, 'guilt':6}\n",
    "    for k,v in mapping.items():\n",
    "        if k == data:\n",
    "            return v\n",
    "    return -1"
   ]
  },
  {
   "cell_type": "code",
   "execution_count": 7,
   "metadata": {
    "executionInfo": {
     "elapsed": 2,
     "status": "ok",
     "timestamp": 1627549493729,
     "user": {
      "displayName": "Sakshi Shukla",
      "photoUrl": "https://lh3.googleusercontent.com/a-/AOh14Gg0R31KxEHq1SF2o2AnpiIYwwiUqmJyzu_qU_PeLhw=s64",
      "userId": "00536174429907799770"
     },
     "user_tz": -120
    },
    "id": "ElCDWDrXMl_1"
   },
   "outputs": [],
   "source": [
    "def remove_puncts(data):\n",
    "    new_data = re.sub(r'[^\\w\\s]', '', data)\n",
    "    return new_data"
   ]
  },
  {
   "cell_type": "code",
   "execution_count": 8,
   "metadata": {
    "executionInfo": {
     "elapsed": 5,
     "status": "ok",
     "timestamp": 1627549495218,
     "user": {
      "displayName": "Sakshi Shukla",
      "photoUrl": "https://lh3.googleusercontent.com/a-/AOh14Gg0R31KxEHq1SF2o2AnpiIYwwiUqmJyzu_qU_PeLhw=s64",
      "userId": "00536174429907799770"
     },
     "user_tz": -120
    },
    "id": "kEeuZKpUMnCJ"
   },
   "outputs": [],
   "source": [
    "def remove_nums(data):\n",
    "    pattern = r'[0-9]'\n",
    "    new_data = re.sub(pattern, '', data)\n",
    "    return new_data"
   ]
  },
  {
   "cell_type": "code",
   "execution_count": 9,
   "metadata": {
    "executionInfo": {
     "elapsed": 218,
     "status": "ok",
     "timestamp": 1627549496420,
     "user": {
      "displayName": "Sakshi Shukla",
      "photoUrl": "https://lh3.googleusercontent.com/a-/AOh14Gg0R31KxEHq1SF2o2AnpiIYwwiUqmJyzu_qU_PeLhw=s64",
      "userId": "00536174429907799770"
     },
     "user_tz": -120
    },
    "id": "T3aksAYkMm_8"
   },
   "outputs": [],
   "source": [
    "def remove_stop_words(data):\n",
    "    all_stopwords = sp.Defaults.stop_words\n",
    "    tokens = data.split(\" \")\n",
    "    tokens_filtered= [word for word in tokens if not word in all_stopwords]\n",
    "    return (\" \").join(tokens_filtered)"
   ]
  },
  {
   "cell_type": "code",
   "execution_count": 10,
   "metadata": {
    "executionInfo": {
     "elapsed": 203,
     "status": "ok",
     "timestamp": 1627549498196,
     "user": {
      "displayName": "Sakshi Shukla",
      "photoUrl": "https://lh3.googleusercontent.com/a-/AOh14Gg0R31KxEHq1SF2o2AnpiIYwwiUqmJyzu_qU_PeLhw=s64",
      "userId": "00536174429907799770"
     },
     "user_tz": -120
    },
    "id": "4IJSA2qSMm8j"
   },
   "outputs": [],
   "source": [
    "def lemmatize(data):\n",
    "    new_string = ''\n",
    "    doc = sp(data)\n",
    "    for token in doc:\n",
    "        new_string= new_string +\" \"+ str(token.lemma_)\n",
    "    return new_string"
   ]
  },
  {
   "cell_type": "code",
   "execution_count": 11,
   "metadata": {
    "executionInfo": {
     "elapsed": 210,
     "status": "ok",
     "timestamp": 1627549499950,
     "user": {
      "displayName": "Sakshi Shukla",
      "photoUrl": "https://lh3.googleusercontent.com/a-/AOh14Gg0R31KxEHq1SF2o2AnpiIYwwiUqmJyzu_qU_PeLhw=s64",
      "userId": "00536174429907799770"
     },
     "user_tz": -120
    },
    "id": "2lOBLmwGMm5q"
   },
   "outputs": [],
   "source": [
    "def remove_PRON(data):\n",
    "    pattern = r'-PRON-'\n",
    "    new_data = re.sub(pattern, '', data)\n",
    "    return new_data"
   ]
  },
  {
   "cell_type": "code",
   "execution_count": 12,
   "metadata": {
    "executionInfo": {
     "elapsed": 200,
     "status": "ok",
     "timestamp": 1627549501834,
     "user": {
      "displayName": "Sakshi Shukla",
      "photoUrl": "https://lh3.googleusercontent.com/a-/AOh14Gg0R31KxEHq1SF2o2AnpiIYwwiUqmJyzu_qU_PeLhw=s64",
      "userId": "00536174429907799770"
     },
     "user_tz": -120
    },
    "id": "_qDkQrpvMm2u"
   },
   "outputs": [],
   "source": [
    "def clean_data(data):\n",
    "    data['Text'] = data['Text'].str.lower()\n",
    "    data['Text'] = data.apply(lambda x: remove_nums(x['Text']), axis=1)\n",
    "    data['Text'] = data.apply(lambda x: remove_puncts(x['Text']), axis=1)\n",
    "    data['Text'] = data.apply(lambda x: remove_stop_words(x['Text']), axis=1)\n",
    "    data['Text'] = data.apply(lambda x: lemmatize(x['Text']), axis=1)\n",
    "    data['Text'] = data.apply(lambda x: remove_PRON(x['Text']), axis=1)\n",
    "    data['Label'] = data.apply(lambda x: transform_label(x['Label']), axis = 1)\n",
    "    return data"
   ]
  },
  {
   "cell_type": "code",
   "execution_count": 13,
   "metadata": {
    "executionInfo": {
     "elapsed": 52545,
     "status": "ok",
     "timestamp": 1627549555471,
     "user": {
      "displayName": "Sakshi Shukla",
      "photoUrl": "https://lh3.googleusercontent.com/a-/AOh14Gg0R31KxEHq1SF2o2AnpiIYwwiUqmJyzu_qU_PeLhw=s64",
      "userId": "00536174429907799770"
     },
     "user_tz": -120
    },
    "id": "MHzt1Al0Mmzs"
   },
   "outputs": [],
   "source": [
    "train = clean_data(train)\n",
    "val = clean_data(val)\n",
    "test = clean_data(test)"
   ]
  },
  {
   "cell_type": "code",
   "execution_count": 14,
   "metadata": {
    "colab": {
     "base_uri": "https://localhost:8080/"
    },
    "executionInfo": {
     "elapsed": 215,
     "status": "ok",
     "timestamp": 1627549677694,
     "user": {
      "displayName": "Sakshi Shukla",
      "photoUrl": "https://lh3.googleusercontent.com/a-/AOh14Gg0R31KxEHq1SF2o2AnpiIYwwiUqmJyzu_qU_PeLhw=s64",
      "userId": "00536174429907799770"
     },
     "user_tz": -120
    },
    "id": "ardU8_d4MmxD",
    "outputId": "dd62f2a6-49f4-4e4d-aa79-1cd155465c77"
   },
   "outputs": [
    {
     "data": {
      "text/plain": [
       "(5357, 1148, 1148)"
      ]
     },
     "execution_count": 14,
     "metadata": {
      "tags": []
     },
     "output_type": "execute_result"
    }
   ],
   "source": [
    "len(train), len(val), len(test)"
   ]
  },
  {
   "cell_type": "code",
   "execution_count": 15,
   "metadata": {
    "colab": {
     "base_uri": "https://localhost:8080/",
     "height": 204
    },
    "executionInfo": {
     "elapsed": 351,
     "status": "ok",
     "timestamp": 1627549680095,
     "user": {
      "displayName": "Sakshi Shukla",
      "photoUrl": "https://lh3.googleusercontent.com/a-/AOh14Gg0R31KxEHq1SF2o2AnpiIYwwiUqmJyzu_qU_PeLhw=s64",
      "userId": "00536174429907799770"
     },
     "user_tz": -120
    },
    "id": "KxfHPimBMmtp",
    "outputId": "06f20a02-47c6-46cc-8661-f9131172fa85"
   },
   "outputs": [
    {
     "data": {
      "text/html": [
       "<div>\n",
       "<style scoped>\n",
       "    .dataframe tbody tr th:only-of-type {\n",
       "        vertical-align: middle;\n",
       "    }\n",
       "\n",
       "    .dataframe tbody tr th {\n",
       "        vertical-align: top;\n",
       "    }\n",
       "\n",
       "    .dataframe thead th {\n",
       "        text-align: right;\n",
       "    }\n",
       "</style>\n",
       "<table border=\"1\" class=\"dataframe\">\n",
       "  <thead>\n",
       "    <tr style=\"text-align: right;\">\n",
       "      <th></th>\n",
       "      <th>Label</th>\n",
       "      <th>Text</th>\n",
       "    </tr>\n",
       "  </thead>\n",
       "  <tbody>\n",
       "    <tr>\n",
       "      <th>0</th>\n",
       "      <td>0</td>\n",
       "      <td>understood admit university</td>\n",
       "    </tr>\n",
       "    <tr>\n",
       "      <th>1</th>\n",
       "      <td>1</td>\n",
       "      <td>broke window neighbouring house fear mothers ...</td>\n",
       "    </tr>\n",
       "    <tr>\n",
       "      <th>2</th>\n",
       "      <td>0</td>\n",
       "      <td>get big fish fishing</td>\n",
       "    </tr>\n",
       "    <tr>\n",
       "      <th>3</th>\n",
       "      <td>1</td>\n",
       "      <td>dark room walk street sleep room night partly...</td>\n",
       "    </tr>\n",
       "    <tr>\n",
       "      <th>4</th>\n",
       "      <td>2</td>\n",
       "      <td>buy possible answer homework problem complete...</td>\n",
       "    </tr>\n",
       "  </tbody>\n",
       "</table>\n",
       "</div>"
      ],
      "text/plain": [
       "   Label                                               Text\n",
       "0      0                        understood admit university\n",
       "1      1   broke window neighbouring house fear mothers ...\n",
       "2      0                               get big fish fishing\n",
       "3      1   dark room walk street sleep room night partly...\n",
       "4      2   buy possible answer homework problem complete..."
      ]
     },
     "execution_count": 15,
     "metadata": {
      "tags": []
     },
     "output_type": "execute_result"
    }
   ],
   "source": [
    "train.head()"
   ]
  },
  {
   "cell_type": "code",
   "execution_count": 16,
   "metadata": {
    "executionInfo": {
     "elapsed": 188,
     "status": "ok",
     "timestamp": 1627549683825,
     "user": {
      "displayName": "Sakshi Shukla",
      "photoUrl": "https://lh3.googleusercontent.com/a-/AOh14Gg0R31KxEHq1SF2o2AnpiIYwwiUqmJyzu_qU_PeLhw=s64",
      "userId": "00536174429907799770"
     },
     "user_tz": -120
    },
    "id": "0UmuAyMRLDhB"
   },
   "outputs": [],
   "source": [
    "x_train = train['Text'].values\n",
    "y_train = train['Label'].values\n",
    "x_val = val['Text'].values\n",
    "y_val = val['Label']\n",
    "x_test = test['Text'].values\n",
    "y_test = test['Label'].values"
   ]
  },
  {
   "cell_type": "code",
   "execution_count": 17,
   "metadata": {
    "executionInfo": {
     "elapsed": 229,
     "status": "ok",
     "timestamp": 1627549685731,
     "user": {
      "displayName": "Sakshi Shukla",
      "photoUrl": "https://lh3.googleusercontent.com/a-/AOh14Gg0R31KxEHq1SF2o2AnpiIYwwiUqmJyzu_qU_PeLhw=s64",
      "userId": "00536174429907799770"
     },
     "user_tz": -120
    },
    "id": "y_V70LGVLHv2"
   },
   "outputs": [],
   "source": [
    "vectorizer = TfidfVectorizer()\n",
    "X_train = vectorizer.fit(x_train)\n",
    "X_train = vectorizer.transform(x_train)\n",
    "X_val = vectorizer.transform(x_val)\n",
    "X_test = vectorizer.transform(x_test)"
   ]
  },
  {
   "cell_type": "code",
   "execution_count": 18,
   "metadata": {
    "colab": {
     "base_uri": "https://localhost:8080/"
    },
    "executionInfo": {
     "elapsed": 3,
     "status": "ok",
     "timestamp": 1627549686793,
     "user": {
      "displayName": "Sakshi Shukla",
      "photoUrl": "https://lh3.googleusercontent.com/a-/AOh14Gg0R31KxEHq1SF2o2AnpiIYwwiUqmJyzu_qU_PeLhw=s64",
      "userId": "00536174429907799770"
     },
     "user_tz": -120
    },
    "id": "tCOTENxjUQ7M",
    "outputId": "e256ab47-39ac-4b90-beb4-09cfe0c7cbe3"
   },
   "outputs": [
    {
     "data": {
      "text/plain": [
       "((5357, 6115), (1148, 6115), (1148, 6115))"
      ]
     },
     "execution_count": 18,
     "metadata": {
      "tags": []
     },
     "output_type": "execute_result"
    }
   ],
   "source": [
    "X_train.shape, X_val.shape, X_test.shape"
   ]
  },
  {
   "cell_type": "code",
   "execution_count": 21,
   "metadata": {
    "executionInfo": {
     "elapsed": 193,
     "status": "ok",
     "timestamp": 1627549722355,
     "user": {
      "displayName": "Sakshi Shukla",
      "photoUrl": "https://lh3.googleusercontent.com/a-/AOh14Gg0R31KxEHq1SF2o2AnpiIYwwiUqmJyzu_qU_PeLhw=s64",
      "userId": "00536174429907799770"
     },
     "user_tz": -120
    },
    "id": "vYfrc0jaYdNg"
   },
   "outputs": [],
   "source": [
    "def update_data(data) :\n",
    "    coo = data.tocoo()\n",
    "    indices = np.mat([coo.row, coo.col]).transpose()\n",
    "    return tf.SparseTensor(indices, coo.data, coo.shape)"
   ]
  },
  {
   "cell_type": "code",
   "execution_count": 23,
   "metadata": {
    "executionInfo": {
     "elapsed": 561,
     "status": "ok",
     "timestamp": 1627550179953,
     "user": {
      "displayName": "Sakshi Shukla",
      "photoUrl": "https://lh3.googleusercontent.com/a-/AOh14Gg0R31KxEHq1SF2o2AnpiIYwwiUqmJyzu_qU_PeLhw=s64",
      "userId": "00536174429907799770"
     },
     "user_tz": -120
    },
    "id": "4YxIpbWrYslV"
   },
   "outputs": [],
   "source": [
    "X_train = tf.sparse.to_dense(tf.sparse.reorder(update_data(X_train)))\n",
    "X_val = tf.sparse.to_dense(tf.sparse.reorder(update_data(X_val)))\n",
    "X_test = tf.sparse.to_dense(tf.sparse.reorder(update_data(X_test)))"
   ]
  },
  {
   "cell_type": "code",
   "execution_count": 24,
   "metadata": {
    "executionInfo": {
     "elapsed": 545,
     "status": "ok",
     "timestamp": 1627550183914,
     "user": {
      "displayName": "Sakshi Shukla",
      "photoUrl": "https://lh3.googleusercontent.com/a-/AOh14Gg0R31KxEHq1SF2o2AnpiIYwwiUqmJyzu_qU_PeLhw=s64",
      "userId": "00536174429907799770"
     },
     "user_tz": -120
    },
    "id": "6vpLW57jUgWI"
   },
   "outputs": [],
   "source": [
    "model = tf.keras.Sequential()\n",
    "model.add(layers.Embedding(input_dim=1000, output_dim=128))\n",
    "model.add(layers.GRU(256, return_sequences=True))\n",
    "model.add(layers.SimpleRNN(128))\n",
    "model.add(layers.Dense(1))"
   ]
  },
  {
   "cell_type": "code",
   "execution_count": 25,
   "metadata": {
    "colab": {
     "base_uri": "https://localhost:8080/"
    },
    "executionInfo": {
     "elapsed": 229,
     "status": "ok",
     "timestamp": 1627550197988,
     "user": {
      "displayName": "Sakshi Shukla",
      "photoUrl": "https://lh3.googleusercontent.com/a-/AOh14Gg0R31KxEHq1SF2o2AnpiIYwwiUqmJyzu_qU_PeLhw=s64",
      "userId": "00536174429907799770"
     },
     "user_tz": -120
    },
    "id": "zmjXXh1OU3Jf",
    "outputId": "ec312753-b939-471f-b91b-2e3f80fed725"
   },
   "outputs": [
    {
     "name": "stdout",
     "output_type": "stream",
     "text": [
      "Model: \"sequential\"\n",
      "_________________________________________________________________\n",
      "Layer (type)                 Output Shape              Param #   \n",
      "=================================================================\n",
      "embedding (Embedding)        (None, None, 128)         128000    \n",
      "_________________________________________________________________\n",
      "gru (GRU)                    (None, None, 256)         296448    \n",
      "_________________________________________________________________\n",
      "simple_rnn (SimpleRNN)       (None, 128)               49280     \n",
      "_________________________________________________________________\n",
      "dense (Dense)                (None, 1)                 129       \n",
      "=================================================================\n",
      "Total params: 473,857\n",
      "Trainable params: 473,857\n",
      "Non-trainable params: 0\n",
      "_________________________________________________________________\n"
     ]
    }
   ],
   "source": [
    "model.summary()"
   ]
  },
  {
   "cell_type": "code",
   "execution_count": 27,
   "metadata": {
    "executionInfo": {
     "elapsed": 201,
     "status": "ok",
     "timestamp": 1627550367576,
     "user": {
      "displayName": "Sakshi Shukla",
      "photoUrl": "https://lh3.googleusercontent.com/a-/AOh14Gg0R31KxEHq1SF2o2AnpiIYwwiUqmJyzu_qU_PeLhw=s64",
      "userId": "00536174429907799770"
     },
     "user_tz": -120
    },
    "id": "IoLSz-3bjXJP"
   },
   "outputs": [],
   "source": [
    "y_train_oh = tf.keras.utils.to_categorical(y_train)\n",
    "y_val_oh = tf.keras.utils.to_categorical(y_val)"
   ]
  },
  {
   "cell_type": "code",
   "execution_count": 28,
   "metadata": {
    "executionInfo": {
     "elapsed": 193,
     "status": "ok",
     "timestamp": 1627550466973,
     "user": {
      "displayName": "Sakshi Shukla",
      "photoUrl": "https://lh3.googleusercontent.com/a-/AOh14Gg0R31KxEHq1SF2o2AnpiIYwwiUqmJyzu_qU_PeLhw=s64",
      "userId": "00536174429907799770"
     },
     "user_tz": -120
    },
    "id": "5gd7gM_IU6yq"
   },
   "outputs": [],
   "source": [
    "model.compile(optimizer='Adam', loss='categorical_crossentropy', metrics=['accuracy'])"
   ]
  },
  {
   "cell_type": "code",
   "execution_count": 29,
   "metadata": {
    "colab": {
     "base_uri": "https://localhost:8080/"
    },
    "executionInfo": {
     "elapsed": 5304320,
     "status": "ok",
     "timestamp": 1627555796190,
     "user": {
      "displayName": "Sakshi Shukla",
      "photoUrl": "https://lh3.googleusercontent.com/a-/AOh14Gg0R31KxEHq1SF2o2AnpiIYwwiUqmJyzu_qU_PeLhw=s64",
      "userId": "00536174429907799770"
     },
     "user_tz": -120
    },
    "id": "Xy-WEFMRVBKn",
    "outputId": "0139a1f9-5536-4b24-802c-07020d6e8065"
   },
   "outputs": [
    {
     "name": "stdout",
     "output_type": "stream",
     "text": [
      "Epoch 1/2\n",
      "335/335 [==============================] - 2638s 8s/step - loss: 3.5716e-07 - accuracy: 0.1454 - val_loss: 3.6054e-07 - val_accuracy: 0.1315\n",
      "Epoch 2/2\n",
      "335/335 [==============================] - 2642s 8s/step - loss: 3.5716e-07 - accuracy: 0.1454 - val_loss: 3.6054e-07 - val_accuracy: 0.1315\n"
     ]
    },
    {
     "data": {
      "text/plain": [
       "<tensorflow.python.keras.callbacks.History at 0x7f550b2dcb10>"
      ]
     },
     "execution_count": 29,
     "metadata": {
      "tags": []
     },
     "output_type": "execute_result"
    }
   ],
   "source": [
    "model.fit(X_train, y_train, epochs=2, batch_size=16, validation_data=(X_val, y_val))"
   ]
  },
  {
   "cell_type": "code",
   "execution_count": null,
   "metadata": {
    "id": "_gPP7ADFVIEt"
   },
   "outputs": [],
   "source": []
  }
 ],
 "metadata": {
  "accelerator": "GPU",
  "colab": {
   "collapsed_sections": [],
   "name": "RNN.ipynb",
   "provenance": []
  },
  "kernelspec": {
   "display_name": "Python 3",
   "language": "python",
   "name": "python3"
  },
  "language_info": {
   "codemirror_mode": {
    "name": "ipython",
    "version": 3
   },
   "file_extension": ".py",
   "mimetype": "text/x-python",
   "name": "python",
   "nbconvert_exporter": "python",
   "pygments_lexer": "ipython3",
   "version": "3.6.9"
  }
 },
 "nbformat": 4,
 "nbformat_minor": 1
}
