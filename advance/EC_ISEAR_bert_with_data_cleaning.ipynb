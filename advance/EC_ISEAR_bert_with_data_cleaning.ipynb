{
 "cells": [
  {
   "cell_type": "code",
   "execution_count": 1,
   "metadata": {
    "colab": {
     "base_uri": "https://localhost:8080/"
    },
    "executionInfo": {
     "elapsed": 13308,
     "status": "ok",
     "timestamp": 1627305743252,
     "user": {
      "displayName": "Sakshi Shukla",
      "photoUrl": "https://lh3.googleusercontent.com/a-/AOh14Gg0R31KxEHq1SF2o2AnpiIYwwiUqmJyzu_qU_PeLhw=s64",
      "userId": "00536174429907799770"
     },
     "user_tz": -120
    },
    "id": "GMlGlpQzrT8j",
    "outputId": "dc4a42e4-86c6-4b11-a6d1-e451b74f39d3"
   },
   "outputs": [
    {
     "name": "stdout",
     "output_type": "stream",
     "text": [
      "Collecting transformers\n",
      "  Downloading transformers-4.9.0-py3-none-any.whl (2.6 MB)\n",
      "\u001b[?25l\r",
      "\u001b[K     |▏                               | 10 kB 35.6 MB/s eta 0:00:01\r",
      "\u001b[K     |▎                               | 20 kB 36.9 MB/s eta 0:00:01\r",
      "\u001b[K     |▍                               | 30 kB 41.5 MB/s eta 0:00:01\r",
      "\u001b[K     |▌                               | 40 kB 41.2 MB/s eta 0:00:01\r",
      "\u001b[K     |▋                               | 51 kB 43.2 MB/s eta 0:00:01\r",
      "\u001b[K     |▊                               | 61 kB 45.9 MB/s eta 0:00:01\r",
      "\u001b[K     |▉                               | 71 kB 36.7 MB/s eta 0:00:01\r",
      "\u001b[K     |█                               | 81 kB 31.6 MB/s eta 0:00:01\r",
      "\u001b[K     |█▏                              | 92 kB 33.2 MB/s eta 0:00:01\r",
      "\u001b[K     |█▎                              | 102 kB 30.8 MB/s eta 0:00:01\r",
      "\u001b[K     |█▍                              | 112 kB 30.8 MB/s eta 0:00:01\r",
      "\u001b[K     |█▌                              | 122 kB 30.8 MB/s eta 0:00:01\r",
      "\u001b[K     |█▋                              | 133 kB 30.8 MB/s eta 0:00:01\r",
      "\u001b[K     |█▊                              | 143 kB 30.8 MB/s eta 0:00:01\r",
      "\u001b[K     |██                              | 153 kB 30.8 MB/s eta 0:00:01\r",
      "\u001b[K     |██                              | 163 kB 30.8 MB/s eta 0:00:01\r",
      "\u001b[K     |██▏                             | 174 kB 30.8 MB/s eta 0:00:01\r",
      "\u001b[K     |██▎                             | 184 kB 30.8 MB/s eta 0:00:01\r",
      "\u001b[K     |██▍                             | 194 kB 30.8 MB/s eta 0:00:01\r",
      "\u001b[K     |██▌                             | 204 kB 30.8 MB/s eta 0:00:01\r",
      "\u001b[K     |██▋                             | 215 kB 30.8 MB/s eta 0:00:01\r",
      "\u001b[K     |██▉                             | 225 kB 30.8 MB/s eta 0:00:01\r",
      "\u001b[K     |███                             | 235 kB 30.8 MB/s eta 0:00:01\r",
      "\u001b[K     |███                             | 245 kB 30.8 MB/s eta 0:00:01\r",
      "\u001b[K     |███▏                            | 256 kB 30.8 MB/s eta 0:00:01\r",
      "\u001b[K     |███▎                            | 266 kB 30.8 MB/s eta 0:00:01\r",
      "\u001b[K     |███▍                            | 276 kB 30.8 MB/s eta 0:00:01\r",
      "\u001b[K     |███▌                            | 286 kB 30.8 MB/s eta 0:00:01\r",
      "\u001b[K     |███▊                            | 296 kB 30.8 MB/s eta 0:00:01\r",
      "\u001b[K     |███▉                            | 307 kB 30.8 MB/s eta 0:00:01\r",
      "\u001b[K     |████                            | 317 kB 30.8 MB/s eta 0:00:01\r",
      "\u001b[K     |████                            | 327 kB 30.8 MB/s eta 0:00:01\r",
      "\u001b[K     |████▏                           | 337 kB 30.8 MB/s eta 0:00:01\r",
      "\u001b[K     |████▎                           | 348 kB 30.8 MB/s eta 0:00:01\r",
      "\u001b[K     |████▍                           | 358 kB 30.8 MB/s eta 0:00:01\r",
      "\u001b[K     |████▌                           | 368 kB 30.8 MB/s eta 0:00:01\r",
      "\u001b[K     |████▊                           | 378 kB 30.8 MB/s eta 0:00:01\r",
      "\u001b[K     |████▉                           | 389 kB 30.8 MB/s eta 0:00:01\r",
      "\u001b[K     |█████                           | 399 kB 30.8 MB/s eta 0:00:01\r",
      "\u001b[K     |█████                           | 409 kB 30.8 MB/s eta 0:00:01\r",
      "\u001b[K     |█████▏                          | 419 kB 30.8 MB/s eta 0:00:01\r",
      "\u001b[K     |█████▎                          | 430 kB 30.8 MB/s eta 0:00:01\r",
      "\u001b[K     |█████▍                          | 440 kB 30.8 MB/s eta 0:00:01\r",
      "\u001b[K     |█████▋                          | 450 kB 30.8 MB/s eta 0:00:01\r",
      "\u001b[K     |█████▊                          | 460 kB 30.8 MB/s eta 0:00:01\r",
      "\u001b[K     |█████▉                          | 471 kB 30.8 MB/s eta 0:00:01\r",
      "\u001b[K     |██████                          | 481 kB 30.8 MB/s eta 0:00:01\r",
      "\u001b[K     |██████                          | 491 kB 30.8 MB/s eta 0:00:01\r",
      "\u001b[K     |██████▏                         | 501 kB 30.8 MB/s eta 0:00:01\r",
      "\u001b[K     |██████▎                         | 512 kB 30.8 MB/s eta 0:00:01\r",
      "\u001b[K     |██████▌                         | 522 kB 30.8 MB/s eta 0:00:01\r",
      "\u001b[K     |██████▋                         | 532 kB 30.8 MB/s eta 0:00:01\r",
      "\u001b[K     |██████▊                         | 542 kB 30.8 MB/s eta 0:00:01\r",
      "\u001b[K     |██████▉                         | 552 kB 30.8 MB/s eta 0:00:01\r",
      "\u001b[K     |███████                         | 563 kB 30.8 MB/s eta 0:00:01\r",
      "\u001b[K     |███████                         | 573 kB 30.8 MB/s eta 0:00:01\r",
      "\u001b[K     |███████▏                        | 583 kB 30.8 MB/s eta 0:00:01\r",
      "\u001b[K     |███████▍                        | 593 kB 30.8 MB/s eta 0:00:01\r",
      "\u001b[K     |███████▌                        | 604 kB 30.8 MB/s eta 0:00:01\r",
      "\u001b[K     |███████▋                        | 614 kB 30.8 MB/s eta 0:00:01\r",
      "\u001b[K     |███████▊                        | 624 kB 30.8 MB/s eta 0:00:01\r",
      "\u001b[K     |███████▉                        | 634 kB 30.8 MB/s eta 0:00:01\r",
      "\u001b[K     |████████                        | 645 kB 30.8 MB/s eta 0:00:01\r",
      "\u001b[K     |████████                        | 655 kB 30.8 MB/s eta 0:00:01\r",
      "\u001b[K     |████████▏                       | 665 kB 30.8 MB/s eta 0:00:01\r",
      "\u001b[K     |████████▍                       | 675 kB 30.8 MB/s eta 0:00:01\r",
      "\u001b[K     |████████▌                       | 686 kB 30.8 MB/s eta 0:00:01\r",
      "\u001b[K     |████████▋                       | 696 kB 30.8 MB/s eta 0:00:01\r",
      "\u001b[K     |████████▊                       | 706 kB 30.8 MB/s eta 0:00:01\r",
      "\u001b[K     |████████▉                       | 716 kB 30.8 MB/s eta 0:00:01\r",
      "\u001b[K     |█████████                       | 727 kB 30.8 MB/s eta 0:00:01\r",
      "\u001b[K     |█████████                       | 737 kB 30.8 MB/s eta 0:00:01\r",
      "\u001b[K     |█████████▎                      | 747 kB 30.8 MB/s eta 0:00:01\r",
      "\u001b[K     |█████████▍                      | 757 kB 30.8 MB/s eta 0:00:01\r",
      "\u001b[K     |█████████▌                      | 768 kB 30.8 MB/s eta 0:00:01\r",
      "\u001b[K     |█████████▋                      | 778 kB 30.8 MB/s eta 0:00:01\r",
      "\u001b[K     |█████████▊                      | 788 kB 30.8 MB/s eta 0:00:01\r",
      "\u001b[K     |█████████▉                      | 798 kB 30.8 MB/s eta 0:00:01\r",
      "\u001b[K     |██████████                      | 808 kB 30.8 MB/s eta 0:00:01\r",
      "\u001b[K     |██████████▏                     | 819 kB 30.8 MB/s eta 0:00:01\r",
      "\u001b[K     |██████████▎                     | 829 kB 30.8 MB/s eta 0:00:01\r",
      "\u001b[K     |██████████▍                     | 839 kB 30.8 MB/s eta 0:00:01\r",
      "\u001b[K     |██████████▌                     | 849 kB 30.8 MB/s eta 0:00:01\r",
      "\u001b[K     |██████████▋                     | 860 kB 30.8 MB/s eta 0:00:01\r",
      "\u001b[K     |██████████▊                     | 870 kB 30.8 MB/s eta 0:00:01\r",
      "\u001b[K     |██████████▉                     | 880 kB 30.8 MB/s eta 0:00:01\r",
      "\u001b[K     |███████████                     | 890 kB 30.8 MB/s eta 0:00:01\r",
      "\u001b[K     |███████████▏                    | 901 kB 30.8 MB/s eta 0:00:01\r",
      "\u001b[K     |███████████▎                    | 911 kB 30.8 MB/s eta 0:00:01\r",
      "\u001b[K     |███████████▍                    | 921 kB 30.8 MB/s eta 0:00:01\r",
      "\u001b[K     |███████████▌                    | 931 kB 30.8 MB/s eta 0:00:01\r",
      "\u001b[K     |███████████▋                    | 942 kB 30.8 MB/s eta 0:00:01\r",
      "\u001b[K     |███████████▊                    | 952 kB 30.8 MB/s eta 0:00:01\r",
      "\u001b[K     |███████████▉                    | 962 kB 30.8 MB/s eta 0:00:01\r",
      "\u001b[K     |████████████                    | 972 kB 30.8 MB/s eta 0:00:01\r",
      "\u001b[K     |████████████▏                   | 983 kB 30.8 MB/s eta 0:00:01\r",
      "\u001b[K     |████████████▎                   | 993 kB 30.8 MB/s eta 0:00:01\r",
      "\u001b[K     |████████████▍                   | 1.0 MB 30.8 MB/s eta 0:00:01\r",
      "\u001b[K     |████████████▌                   | 1.0 MB 30.8 MB/s eta 0:00:01\r",
      "\u001b[K     |████████████▋                   | 1.0 MB 30.8 MB/s eta 0:00:01\r",
      "\u001b[K     |████████████▊                   | 1.0 MB 30.8 MB/s eta 0:00:01\r",
      "\u001b[K     |█████████████                   | 1.0 MB 30.8 MB/s eta 0:00:01\r",
      "\u001b[K     |█████████████                   | 1.1 MB 30.8 MB/s eta 0:00:01\r",
      "\u001b[K     |█████████████▏                  | 1.1 MB 30.8 MB/s eta 0:00:01\r",
      "\u001b[K     |█████████████▎                  | 1.1 MB 30.8 MB/s eta 0:00:01\r",
      "\u001b[K     |█████████████▍                  | 1.1 MB 30.8 MB/s eta 0:00:01\r",
      "\u001b[K     |█████████████▌                  | 1.1 MB 30.8 MB/s eta 0:00:01\r",
      "\u001b[K     |█████████████▋                  | 1.1 MB 30.8 MB/s eta 0:00:01\r",
      "\u001b[K     |█████████████▉                  | 1.1 MB 30.8 MB/s eta 0:00:01\r",
      "\u001b[K     |██████████████                  | 1.1 MB 30.8 MB/s eta 0:00:01\r",
      "\u001b[K     |██████████████                  | 1.1 MB 30.8 MB/s eta 0:00:01\r",
      "\u001b[K     |██████████████▏                 | 1.1 MB 30.8 MB/s eta 0:00:01\r",
      "\u001b[K     |██████████████▎                 | 1.2 MB 30.8 MB/s eta 0:00:01\r",
      "\u001b[K     |██████████████▍                 | 1.2 MB 30.8 MB/s eta 0:00:01\r",
      "\u001b[K     |██████████████▌                 | 1.2 MB 30.8 MB/s eta 0:00:01\r",
      "\u001b[K     |██████████████▊                 | 1.2 MB 30.8 MB/s eta 0:00:01\r",
      "\u001b[K     |██████████████▉                 | 1.2 MB 30.8 MB/s eta 0:00:01\r",
      "\u001b[K     |███████████████                 | 1.2 MB 30.8 MB/s eta 0:00:01\r",
      "\u001b[K     |███████████████                 | 1.2 MB 30.8 MB/s eta 0:00:01\r",
      "\u001b[K     |███████████████▏                | 1.2 MB 30.8 MB/s eta 0:00:01\r",
      "\u001b[K     |███████████████▎                | 1.2 MB 30.8 MB/s eta 0:00:01\r",
      "\u001b[K     |███████████████▍                | 1.2 MB 30.8 MB/s eta 0:00:01\r",
      "\u001b[K     |███████████████▋                | 1.3 MB 30.8 MB/s eta 0:00:01\r",
      "\u001b[K     |███████████████▊                | 1.3 MB 30.8 MB/s eta 0:00:01\r",
      "\u001b[K     |███████████████▉                | 1.3 MB 30.8 MB/s eta 0:00:01\r",
      "\u001b[K     |████████████████                | 1.3 MB 30.8 MB/s eta 0:00:01\r",
      "\u001b[K     |████████████████                | 1.3 MB 30.8 MB/s eta 0:00:01\r",
      "\u001b[K     |████████████████▏               | 1.3 MB 30.8 MB/s eta 0:00:01\r",
      "\u001b[K     |████████████████▎               | 1.3 MB 30.8 MB/s eta 0:00:01\r",
      "\u001b[K     |████████████████▍               | 1.3 MB 30.8 MB/s eta 0:00:01\r",
      "\u001b[K     |████████████████▋               | 1.3 MB 30.8 MB/s eta 0:00:01\r",
      "\u001b[K     |████████████████▊               | 1.4 MB 30.8 MB/s eta 0:00:01\r",
      "\u001b[K     |████████████████▉               | 1.4 MB 30.8 MB/s eta 0:00:01\r",
      "\u001b[K     |█████████████████               | 1.4 MB 30.8 MB/s eta 0:00:01\r",
      "\u001b[K     |█████████████████               | 1.4 MB 30.8 MB/s eta 0:00:01\r",
      "\u001b[K     |█████████████████▏              | 1.4 MB 30.8 MB/s eta 0:00:01\r",
      "\u001b[K     |█████████████████▎              | 1.4 MB 30.8 MB/s eta 0:00:01\r",
      "\u001b[K     |█████████████████▌              | 1.4 MB 30.8 MB/s eta 0:00:01\r",
      "\u001b[K     |█████████████████▋              | 1.4 MB 30.8 MB/s eta 0:00:01\r",
      "\u001b[K     |█████████████████▊              | 1.4 MB 30.8 MB/s eta 0:00:01\r",
      "\u001b[K     |█████████████████▉              | 1.4 MB 30.8 MB/s eta 0:00:01\r",
      "\u001b[K     |██████████████████              | 1.5 MB 30.8 MB/s eta 0:00:01\r",
      "\u001b[K     |██████████████████              | 1.5 MB 30.8 MB/s eta 0:00:01\r",
      "\u001b[K     |██████████████████▏             | 1.5 MB 30.8 MB/s eta 0:00:01\r",
      "\u001b[K     |██████████████████▍             | 1.5 MB 30.8 MB/s eta 0:00:01\r",
      "\u001b[K     |██████████████████▌             | 1.5 MB 30.8 MB/s eta 0:00:01\r",
      "\u001b[K     |██████████████████▋             | 1.5 MB 30.8 MB/s eta 0:00:01\r",
      "\u001b[K     |██████████████████▊             | 1.5 MB 30.8 MB/s eta 0:00:01\r",
      "\u001b[K     |██████████████████▉             | 1.5 MB 30.8 MB/s eta 0:00:01\r",
      "\u001b[K     |███████████████████             | 1.5 MB 30.8 MB/s eta 0:00:01\r",
      "\u001b[K     |███████████████████             | 1.5 MB 30.8 MB/s eta 0:00:01\r",
      "\u001b[K     |███████████████████▎            | 1.6 MB 30.8 MB/s eta 0:00:01\r",
      "\u001b[K     |███████████████████▍            | 1.6 MB 30.8 MB/s eta 0:00:01\r",
      "\u001b[K     |███████████████████▌            | 1.6 MB 30.8 MB/s eta 0:00:01\r",
      "\u001b[K     |███████████████████▋            | 1.6 MB 30.8 MB/s eta 0:00:01\r",
      "\u001b[K     |███████████████████▊            | 1.6 MB 30.8 MB/s eta 0:00:01\r",
      "\u001b[K     |███████████████████▉            | 1.6 MB 30.8 MB/s eta 0:00:01\r",
      "\u001b[K     |████████████████████            | 1.6 MB 30.8 MB/s eta 0:00:01\r",
      "\u001b[K     |████████████████████            | 1.6 MB 30.8 MB/s eta 0:00:01\r",
      "\u001b[K     |████████████████████▎           | 1.6 MB 30.8 MB/s eta 0:00:01\r",
      "\u001b[K     |████████████████████▍           | 1.6 MB 30.8 MB/s eta 0:00:01\r",
      "\u001b[K     |████████████████████▌           | 1.7 MB 30.8 MB/s eta 0:00:01\r",
      "\u001b[K     |████████████████████▋           | 1.7 MB 30.8 MB/s eta 0:00:01\r",
      "\u001b[K     |████████████████████▊           | 1.7 MB 30.8 MB/s eta 0:00:01\r",
      "\u001b[K     |████████████████████▉           | 1.7 MB 30.8 MB/s eta 0:00:01\r",
      "\u001b[K     |█████████████████████           | 1.7 MB 30.8 MB/s eta 0:00:01\r",
      "\u001b[K     |█████████████████████▏          | 1.7 MB 30.8 MB/s eta 0:00:01\r",
      "\u001b[K     |█████████████████████▎          | 1.7 MB 30.8 MB/s eta 0:00:01\r",
      "\u001b[K     |█████████████████████▍          | 1.7 MB 30.8 MB/s eta 0:00:01\r",
      "\u001b[K     |█████████████████████▌          | 1.7 MB 30.8 MB/s eta 0:00:01\r",
      "\u001b[K     |█████████████████████▋          | 1.8 MB 30.8 MB/s eta 0:00:01\r",
      "\u001b[K     |█████████████████████▊          | 1.8 MB 30.8 MB/s eta 0:00:01\r",
      "\u001b[K     |█████████████████████▉          | 1.8 MB 30.8 MB/s eta 0:00:01\r",
      "\u001b[K     |██████████████████████          | 1.8 MB 30.8 MB/s eta 0:00:01\r",
      "\u001b[K     |██████████████████████▏         | 1.8 MB 30.8 MB/s eta 0:00:01\r",
      "\u001b[K     |██████████████████████▎         | 1.8 MB 30.8 MB/s eta 0:00:01\r",
      "\u001b[K     |██████████████████████▍         | 1.8 MB 30.8 MB/s eta 0:00:01\r",
      "\u001b[K     |██████████████████████▌         | 1.8 MB 30.8 MB/s eta 0:00:01\r",
      "\u001b[K     |██████████████████████▋         | 1.8 MB 30.8 MB/s eta 0:00:01\r",
      "\u001b[K     |██████████████████████▊         | 1.8 MB 30.8 MB/s eta 0:00:01\r",
      "\u001b[K     |███████████████████████         | 1.9 MB 30.8 MB/s eta 0:00:01\r",
      "\u001b[K     |███████████████████████         | 1.9 MB 30.8 MB/s eta 0:00:01\r",
      "\u001b[K     |███████████████████████▏        | 1.9 MB 30.8 MB/s eta 0:00:01\r",
      "\u001b[K     |███████████████████████▎        | 1.9 MB 30.8 MB/s eta 0:00:01\r",
      "\u001b[K     |███████████████████████▍        | 1.9 MB 30.8 MB/s eta 0:00:01\r",
      "\u001b[K     |███████████████████████▌        | 1.9 MB 30.8 MB/s eta 0:00:01\r",
      "\u001b[K     |███████████████████████▋        | 1.9 MB 30.8 MB/s eta 0:00:01\r",
      "\u001b[K     |███████████████████████▊        | 1.9 MB 30.8 MB/s eta 0:00:01\r",
      "\u001b[K     |████████████████████████        | 1.9 MB 30.8 MB/s eta 0:00:01\r",
      "\u001b[K     |████████████████████████        | 1.9 MB 30.8 MB/s eta 0:00:01\r",
      "\u001b[K     |████████████████████████▏       | 2.0 MB 30.8 MB/s eta 0:00:01\r",
      "\u001b[K     |████████████████████████▎       | 2.0 MB 30.8 MB/s eta 0:00:01\r",
      "\u001b[K     |████████████████████████▍       | 2.0 MB 30.8 MB/s eta 0:00:01\r",
      "\u001b[K     |████████████████████████▌       | 2.0 MB 30.8 MB/s eta 0:00:01\r",
      "\u001b[K     |████████████████████████▋       | 2.0 MB 30.8 MB/s eta 0:00:01\r",
      "\u001b[K     |████████████████████████▉       | 2.0 MB 30.8 MB/s eta 0:00:01\r",
      "\u001b[K     |█████████████████████████       | 2.0 MB 30.8 MB/s eta 0:00:01\r",
      "\u001b[K     |█████████████████████████       | 2.0 MB 30.8 MB/s eta 0:00:01\r",
      "\u001b[K     |█████████████████████████▏      | 2.0 MB 30.8 MB/s eta 0:00:01\r",
      "\u001b[K     |█████████████████████████▎      | 2.0 MB 30.8 MB/s eta 0:00:01\r",
      "\u001b[K     |█████████████████████████▍      | 2.1 MB 30.8 MB/s eta 0:00:01\r",
      "\u001b[K     |█████████████████████████▌      | 2.1 MB 30.8 MB/s eta 0:00:01\r",
      "\u001b[K     |█████████████████████████▊      | 2.1 MB 30.8 MB/s eta 0:00:01\r",
      "\u001b[K     |█████████████████████████▉      | 2.1 MB 30.8 MB/s eta 0:00:01\r",
      "\u001b[K     |██████████████████████████      | 2.1 MB 30.8 MB/s eta 0:00:01\r",
      "\u001b[K     |██████████████████████████      | 2.1 MB 30.8 MB/s eta 0:00:01\r",
      "\u001b[K     |██████████████████████████▏     | 2.1 MB 30.8 MB/s eta 0:00:01\r",
      "\u001b[K     |██████████████████████████▎     | 2.1 MB 30.8 MB/s eta 0:00:01\r",
      "\u001b[K     |██████████████████████████▍     | 2.1 MB 30.8 MB/s eta 0:00:01\r",
      "\u001b[K     |██████████████████████████▋     | 2.2 MB 30.8 MB/s eta 0:00:01\r",
      "\u001b[K     |██████████████████████████▊     | 2.2 MB 30.8 MB/s eta 0:00:01\r",
      "\u001b[K     |██████████████████████████▉     | 2.2 MB 30.8 MB/s eta 0:00:01\r",
      "\u001b[K     |███████████████████████████     | 2.2 MB 30.8 MB/s eta 0:00:01\r",
      "\u001b[K     |███████████████████████████     | 2.2 MB 30.8 MB/s eta 0:00:01\r",
      "\u001b[K     |███████████████████████████▏    | 2.2 MB 30.8 MB/s eta 0:00:01\r",
      "\u001b[K     |███████████████████████████▎    | 2.2 MB 30.8 MB/s eta 0:00:01\r",
      "\u001b[K     |███████████████████████████▌    | 2.2 MB 30.8 MB/s eta 0:00:01\r",
      "\u001b[K     |███████████████████████████▋    | 2.2 MB 30.8 MB/s eta 0:00:01\r",
      "\u001b[K     |███████████████████████████▊    | 2.2 MB 30.8 MB/s eta 0:00:01\r",
      "\u001b[K     |███████████████████████████▉    | 2.3 MB 30.8 MB/s eta 0:00:01\r",
      "\u001b[K     |████████████████████████████    | 2.3 MB 30.8 MB/s eta 0:00:01\r",
      "\u001b[K     |████████████████████████████    | 2.3 MB 30.8 MB/s eta 0:00:01\r",
      "\u001b[K     |████████████████████████████▏   | 2.3 MB 30.8 MB/s eta 0:00:01\r",
      "\u001b[K     |████████████████████████████▎   | 2.3 MB 30.8 MB/s eta 0:00:01\r",
      "\u001b[K     |████████████████████████████▌   | 2.3 MB 30.8 MB/s eta 0:00:01\r",
      "\u001b[K     |████████████████████████████▋   | 2.3 MB 30.8 MB/s eta 0:00:01\r",
      "\u001b[K     |████████████████████████████▊   | 2.3 MB 30.8 MB/s eta 0:00:01\r",
      "\u001b[K     |████████████████████████████▉   | 2.3 MB 30.8 MB/s eta 0:00:01\r",
      "\u001b[K     |█████████████████████████████   | 2.3 MB 30.8 MB/s eta 0:00:01\r",
      "\u001b[K     |█████████████████████████████   | 2.4 MB 30.8 MB/s eta 0:00:01\r",
      "\u001b[K     |█████████████████████████████▏  | 2.4 MB 30.8 MB/s eta 0:00:01\r",
      "\u001b[K     |█████████████████████████████▍  | 2.4 MB 30.8 MB/s eta 0:00:01\r",
      "\u001b[K     |█████████████████████████████▌  | 2.4 MB 30.8 MB/s eta 0:00:01\r",
      "\u001b[K     |█████████████████████████████▋  | 2.4 MB 30.8 MB/s eta 0:00:01\r",
      "\u001b[K     |█████████████████████████████▊  | 2.4 MB 30.8 MB/s eta 0:00:01\r",
      "\u001b[K     |█████████████████████████████▉  | 2.4 MB 30.8 MB/s eta 0:00:01\r",
      "\u001b[K     |██████████████████████████████  | 2.4 MB 30.8 MB/s eta 0:00:01\r",
      "\u001b[K     |██████████████████████████████  | 2.4 MB 30.8 MB/s eta 0:00:01\r",
      "\u001b[K     |██████████████████████████████▎ | 2.4 MB 30.8 MB/s eta 0:00:01\r",
      "\u001b[K     |██████████████████████████████▍ | 2.5 MB 30.8 MB/s eta 0:00:01\r",
      "\u001b[K     |██████████████████████████████▌ | 2.5 MB 30.8 MB/s eta 0:00:01\r",
      "\u001b[K     |██████████████████████████████▋ | 2.5 MB 30.8 MB/s eta 0:00:01\r",
      "\u001b[K     |██████████████████████████████▊ | 2.5 MB 30.8 MB/s eta 0:00:01\r",
      "\u001b[K     |██████████████████████████████▉ | 2.5 MB 30.8 MB/s eta 0:00:01\r",
      "\u001b[K     |███████████████████████████████ | 2.5 MB 30.8 MB/s eta 0:00:01\r",
      "\u001b[K     |███████████████████████████████▏| 2.5 MB 30.8 MB/s eta 0:00:01\r",
      "\u001b[K     |███████████████████████████████▎| 2.5 MB 30.8 MB/s eta 0:00:01\r",
      "\u001b[K     |███████████████████████████████▍| 2.5 MB 30.8 MB/s eta 0:00:01\r",
      "\u001b[K     |███████████████████████████████▌| 2.5 MB 30.8 MB/s eta 0:00:01\r",
      "\u001b[K     |███████████████████████████████▋| 2.6 MB 30.8 MB/s eta 0:00:01\r",
      "\u001b[K     |███████████████████████████████▊| 2.6 MB 30.8 MB/s eta 0:00:01\r",
      "\u001b[K     |███████████████████████████████▉| 2.6 MB 30.8 MB/s eta 0:00:01\r",
      "\u001b[K     |████████████████████████████████| 2.6 MB 30.8 MB/s eta 0:00:01\r",
      "\u001b[K     |████████████████████████████████| 2.6 MB 30.8 MB/s \n",
      "\u001b[?25hRequirement already satisfied: requests in /usr/local/lib/python3.7/dist-packages (from transformers) (2.23.0)\n",
      "Requirement already satisfied: importlib-metadata in /usr/local/lib/python3.7/dist-packages (from transformers) (4.6.1)\n",
      "Requirement already satisfied: numpy>=1.17 in /usr/local/lib/python3.7/dist-packages (from transformers) (1.19.5)\n",
      "Requirement already satisfied: tqdm>=4.27 in /usr/local/lib/python3.7/dist-packages (from transformers) (4.41.1)\n",
      "Requirement already satisfied: filelock in /usr/local/lib/python3.7/dist-packages (from transformers) (3.0.12)\n",
      "Collecting tokenizers<0.11,>=0.10.1\n",
      "  Downloading tokenizers-0.10.3-cp37-cp37m-manylinux_2_5_x86_64.manylinux1_x86_64.manylinux_2_12_x86_64.manylinux2010_x86_64.whl (3.3 MB)\n",
      "\u001b[K     |████████████████████████████████| 3.3 MB 60.2 MB/s \n",
      "\u001b[?25hRequirement already satisfied: regex!=2019.12.17 in /usr/local/lib/python3.7/dist-packages (from transformers) (2019.12.20)\n",
      "Collecting pyyaml>=5.1\n",
      "  Downloading PyYAML-5.4.1-cp37-cp37m-manylinux1_x86_64.whl (636 kB)\n",
      "\u001b[K     |████████████████████████████████| 636 kB 48.0 MB/s \n",
      "\u001b[?25hCollecting huggingface-hub==0.0.12\n",
      "  Downloading huggingface_hub-0.0.12-py3-none-any.whl (37 kB)\n",
      "Collecting sacremoses\n",
      "  Downloading sacremoses-0.0.45-py3-none-any.whl (895 kB)\n",
      "\u001b[K     |████████████████████████████████| 895 kB 67.6 MB/s \n",
      "\u001b[?25hRequirement already satisfied: packaging in /usr/local/lib/python3.7/dist-packages (from transformers) (21.0)\n",
      "Requirement already satisfied: typing-extensions in /usr/local/lib/python3.7/dist-packages (from huggingface-hub==0.0.12->transformers) (3.7.4.3)\n",
      "Requirement already satisfied: pyparsing>=2.0.2 in /usr/local/lib/python3.7/dist-packages (from packaging->transformers) (2.4.7)\n",
      "Requirement already satisfied: zipp>=0.5 in /usr/local/lib/python3.7/dist-packages (from importlib-metadata->transformers) (3.5.0)\n",
      "Requirement already satisfied: chardet<4,>=3.0.2 in /usr/local/lib/python3.7/dist-packages (from requests->transformers) (3.0.4)\n",
      "Requirement already satisfied: idna<3,>=2.5 in /usr/local/lib/python3.7/dist-packages (from requests->transformers) (2.10)\n",
      "Requirement already satisfied: urllib3!=1.25.0,!=1.25.1,<1.26,>=1.21.1 in /usr/local/lib/python3.7/dist-packages (from requests->transformers) (1.24.3)\n",
      "Requirement already satisfied: certifi>=2017.4.17 in /usr/local/lib/python3.7/dist-packages (from requests->transformers) (2021.5.30)\n",
      "Requirement already satisfied: joblib in /usr/local/lib/python3.7/dist-packages (from sacremoses->transformers) (1.0.1)\n",
      "Requirement already satisfied: six in /usr/local/lib/python3.7/dist-packages (from sacremoses->transformers) (1.15.0)\n",
      "Requirement already satisfied: click in /usr/local/lib/python3.7/dist-packages (from sacremoses->transformers) (7.1.2)\n",
      "Installing collected packages: tokenizers, sacremoses, pyyaml, huggingface-hub, transformers\n",
      "  Attempting uninstall: pyyaml\n",
      "    Found existing installation: PyYAML 3.13\n",
      "    Uninstalling PyYAML-3.13:\n",
      "      Successfully uninstalled PyYAML-3.13\n",
      "Successfully installed huggingface-hub-0.0.12 pyyaml-5.4.1 sacremoses-0.0.45 tokenizers-0.10.3 transformers-4.9.0\n",
      "Collecting datasets\n",
      "  Downloading datasets-1.10.2-py3-none-any.whl (542 kB)\n",
      "\u001b[K     |████████████████████████████████| 542 kB 32.2 MB/s \n",
      "\u001b[?25hCollecting xxhash\n",
      "  Downloading xxhash-2.0.2-cp37-cp37m-manylinux2010_x86_64.whl (243 kB)\n",
      "\u001b[K     |████████████████████████████████| 243 kB 66.7 MB/s \n",
      "\u001b[?25hRequirement already satisfied: pyarrow!=4.0.0,>=1.0.0 in /usr/local/lib/python3.7/dist-packages (from datasets) (3.0.0)\n",
      "Requirement already satisfied: packaging in /usr/local/lib/python3.7/dist-packages (from datasets) (21.0)\n",
      "Collecting fsspec>=2021.05.0\n",
      "  Downloading fsspec-2021.7.0-py3-none-any.whl (118 kB)\n",
      "\u001b[K     |████████████████████████████████| 118 kB 50.9 MB/s \n",
      "\u001b[?25hRequirement already satisfied: huggingface-hub<0.1.0 in /usr/local/lib/python3.7/dist-packages (from datasets) (0.0.12)\n",
      "Requirement already satisfied: dill in /usr/local/lib/python3.7/dist-packages (from datasets) (0.3.4)\n",
      "Requirement already satisfied: requests>=2.19.0 in /usr/local/lib/python3.7/dist-packages (from datasets) (2.23.0)\n",
      "Requirement already satisfied: numpy>=1.17 in /usr/local/lib/python3.7/dist-packages (from datasets) (1.19.5)\n",
      "Requirement already satisfied: multiprocess in /usr/local/lib/python3.7/dist-packages (from datasets) (0.70.12.2)\n",
      "Requirement already satisfied: pandas in /usr/local/lib/python3.7/dist-packages (from datasets) (1.1.5)\n",
      "Collecting tqdm>=4.42\n",
      "  Downloading tqdm-4.61.2-py2.py3-none-any.whl (76 kB)\n",
      "\u001b[K     |████████████████████████████████| 76 kB 5.1 MB/s \n",
      "\u001b[?25hRequirement already satisfied: importlib-metadata in /usr/local/lib/python3.7/dist-packages (from datasets) (4.6.1)\n",
      "Requirement already satisfied: filelock in /usr/local/lib/python3.7/dist-packages (from huggingface-hub<0.1.0->datasets) (3.0.12)\n",
      "Requirement already satisfied: typing-extensions in /usr/local/lib/python3.7/dist-packages (from huggingface-hub<0.1.0->datasets) (3.7.4.3)\n",
      "Requirement already satisfied: pyparsing>=2.0.2 in /usr/local/lib/python3.7/dist-packages (from packaging->datasets) (2.4.7)\n",
      "Requirement already satisfied: certifi>=2017.4.17 in /usr/local/lib/python3.7/dist-packages (from requests>=2.19.0->datasets) (2021.5.30)\n",
      "Requirement already satisfied: idna<3,>=2.5 in /usr/local/lib/python3.7/dist-packages (from requests>=2.19.0->datasets) (2.10)\n",
      "Requirement already satisfied: urllib3!=1.25.0,!=1.25.1,<1.26,>=1.21.1 in /usr/local/lib/python3.7/dist-packages (from requests>=2.19.0->datasets) (1.24.3)\n",
      "Requirement already satisfied: chardet<4,>=3.0.2 in /usr/local/lib/python3.7/dist-packages (from requests>=2.19.0->datasets) (3.0.4)\n",
      "Requirement already satisfied: zipp>=0.5 in /usr/local/lib/python3.7/dist-packages (from importlib-metadata->datasets) (3.5.0)\n",
      "Requirement already satisfied: pytz>=2017.2 in /usr/local/lib/python3.7/dist-packages (from pandas->datasets) (2018.9)\n",
      "Requirement already satisfied: python-dateutil>=2.7.3 in /usr/local/lib/python3.7/dist-packages (from pandas->datasets) (2.8.1)\n",
      "Requirement already satisfied: six>=1.5 in /usr/local/lib/python3.7/dist-packages (from python-dateutil>=2.7.3->pandas->datasets) (1.15.0)\n",
      "Installing collected packages: tqdm, xxhash, fsspec, datasets\n",
      "  Attempting uninstall: tqdm\n",
      "    Found existing installation: tqdm 4.41.1\n",
      "    Uninstalling tqdm-4.41.1:\n",
      "      Successfully uninstalled tqdm-4.41.1\n",
      "Successfully installed datasets-1.10.2 fsspec-2021.7.0 tqdm-4.61.2 xxhash-2.0.2\n",
      "Requirement already satisfied: torch in /usr/local/lib/python3.7/dist-packages (1.9.0+cu102)\n",
      "Requirement already satisfied: typing-extensions in /usr/local/lib/python3.7/dist-packages (from torch) (3.7.4.3)\n"
     ]
    }
   ],
   "source": [
    "!pip install transformers\n",
    "!pip install datasets\n",
    "!pip3 install torch"
   ]
  },
  {
   "cell_type": "code",
   "execution_count": 2,
   "metadata": {
    "executionInfo": {
     "elapsed": 3145,
     "status": "ok",
     "timestamp": 1627305746393,
     "user": {
      "displayName": "Sakshi Shukla",
      "photoUrl": "https://lh3.googleusercontent.com/a-/AOh14Gg0R31KxEHq1SF2o2AnpiIYwwiUqmJyzu_qU_PeLhw=s64",
      "userId": "00536174429907799770"
     },
     "user_tz": -120
    },
    "id": "Qfq1d8g8rovL"
   },
   "outputs": [],
   "source": [
    "import numpy as np\n",
    "import pandas as pd\n",
    "import matplotlib.pyplot as plt\n",
    "import os\n",
    "import re\n",
    "import sys\n",
    "import string\n",
    "import json\n",
    "import spacy\n",
    "sp = spacy.load('en_core_web_sm')"
   ]
  },
  {
   "cell_type": "code",
   "execution_count": 3,
   "metadata": {
    "executionInfo": {
     "elapsed": 5927,
     "status": "ok",
     "timestamp": 1627305752317,
     "user": {
      "displayName": "Sakshi Shukla",
      "photoUrl": "https://lh3.googleusercontent.com/a-/AOh14Gg0R31KxEHq1SF2o2AnpiIYwwiUqmJyzu_qU_PeLhw=s64",
      "userId": "00536174429907799770"
     },
     "user_tz": -120
    },
    "id": "gYOgHI7BrxnM"
   },
   "outputs": [],
   "source": [
    "import transformers\n",
    "from transformers import BertTokenizer, BertModel, BertForSequenceClassification, BertPreTrainedModel, BertConfig\n",
    "import torch\n",
    "from torch import nn\n",
    "from sklearn.metrics import accuracy_score,classification_report"
   ]
  },
  {
   "cell_type": "code",
   "execution_count": 4,
   "metadata": {
    "executionInfo": {
     "elapsed": 974,
     "status": "ok",
     "timestamp": 1627305756834,
     "user": {
      "displayName": "Sakshi Shukla",
      "photoUrl": "https://lh3.googleusercontent.com/a-/AOh14Gg0R31KxEHq1SF2o2AnpiIYwwiUqmJyzu_qU_PeLhw=s64",
      "userId": "00536174429907799770"
     },
     "user_tz": -120
    },
    "id": "MUCTGYk4r13v"
   },
   "outputs": [],
   "source": [
    "from transformers import AdamW\n",
    "from transformers import get_scheduler\n",
    "from datasets import load_metric\n",
    "from tqdm.notebook import tqdm"
   ]
  },
  {
   "cell_type": "code",
   "execution_count": 5,
   "metadata": {
    "executionInfo": {
     "elapsed": 6,
     "status": "ok",
     "timestamp": 1627305757119,
     "user": {
      "displayName": "Sakshi Shukla",
      "photoUrl": "https://lh3.googleusercontent.com/a-/AOh14Gg0R31KxEHq1SF2o2AnpiIYwwiUqmJyzu_qU_PeLhw=s64",
      "userId": "00536174429907799770"
     },
     "user_tz": -120
    },
    "id": "e5Udwr8zr3zd"
   },
   "outputs": [],
   "source": [
    "train_path = './../datasets/Emotion_classification_ISEAR/corrected_isear-train.csv'\n",
    "val_path = './../datasets/Emotion_classification_ISEAR/corrected_isear-val.csv'\n",
    "test_path = './../datasets/Emotion_classification_ISEAR/corrected_isear-test.csv'"
   ]
  },
  {
   "cell_type": "code",
   "execution_count": 6,
   "metadata": {
    "executionInfo": {
     "elapsed": 30,
     "status": "ok",
     "timestamp": 1627305758094,
     "user": {
      "displayName": "Sakshi Shukla",
      "photoUrl": "https://lh3.googleusercontent.com/a-/AOh14Gg0R31KxEHq1SF2o2AnpiIYwwiUqmJyzu_qU_PeLhw=s64",
      "userId": "00536174429907799770"
     },
     "user_tz": -120
    },
    "id": "7pvJrt3CsfVR"
   },
   "outputs": [],
   "source": [
    "def read_data(data):\n",
    "    df = pd.read_csv(data, names=['Label', 'Text', 'NaN'], error_bad_lines=False)\n",
    "    df.drop(columns=['NaN'], axis=1, inplace=True)\n",
    "    return df"
   ]
  },
  {
   "cell_type": "code",
   "execution_count": 7,
   "metadata": {
    "executionInfo": {
     "elapsed": 8,
     "status": "ok",
     "timestamp": 1627305758954,
     "user": {
      "displayName": "Sakshi Shukla",
      "photoUrl": "https://lh3.googleusercontent.com/a-/AOh14Gg0R31KxEHq1SF2o2AnpiIYwwiUqmJyzu_qU_PeLhw=s64",
      "userId": "00536174429907799770"
     },
     "user_tz": -120
    },
    "id": "N0QEwacntlf1"
   },
   "outputs": [],
   "source": [
    "train = read_data(train_path)\n",
    "val = read_data(val_path)\n",
    "test = read_data(test_path)"
   ]
  },
  {
   "cell_type": "code",
   "execution_count": 8,
   "metadata": {
    "colab": {
     "base_uri": "https://localhost:8080/"
    },
    "executionInfo": {
     "elapsed": 6,
     "status": "ok",
     "timestamp": 1627305760095,
     "user": {
      "displayName": "Sakshi Shukla",
      "photoUrl": "https://lh3.googleusercontent.com/a-/AOh14Gg0R31KxEHq1SF2o2AnpiIYwwiUqmJyzu_qU_PeLhw=s64",
      "userId": "00536174429907799770"
     },
     "user_tz": -120
    },
    "id": "eT7EvpTZ9yPU",
    "outputId": "a9faae4c-83c0-4c79-8c20-b0da52fbe757"
   },
   "outputs": [
    {
     "data": {
      "text/plain": [
       "array(['joy', 'guilt', 'sadness', 'shame', 'fear', 'anger', 'disgust'],\n",
       "      dtype=object)"
      ]
     },
     "execution_count": 8,
     "metadata": {
      "tags": []
     },
     "output_type": "execute_result"
    }
   ],
   "source": [
    "val.Label.unique()"
   ]
  },
  {
   "cell_type": "code",
   "execution_count": 9,
   "metadata": {
    "colab": {
     "base_uri": "https://localhost:8080/"
    },
    "executionInfo": {
     "elapsed": 12,
     "status": "ok",
     "timestamp": 1627305760851,
     "user": {
      "displayName": "Sakshi Shukla",
      "photoUrl": "https://lh3.googleusercontent.com/a-/AOh14Gg0R31KxEHq1SF2o2AnpiIYwwiUqmJyzu_qU_PeLhw=s64",
      "userId": "00536174429907799770"
     },
     "user_tz": -120
    },
    "id": "Ds5DKQyC-Lnl",
    "outputId": "4734663e-e7e7-42dc-8d34-cb8cdff42e83"
   },
   "outputs": [
    {
     "data": {
      "text/plain": [
       "array(['joy', 'fear', 'shame', 'disgust', 'guilt', 'anger', 'sadness'],\n",
       "      dtype=object)"
      ]
     },
     "execution_count": 9,
     "metadata": {
      "tags": []
     },
     "output_type": "execute_result"
    }
   ],
   "source": [
    "train.Label.unique()"
   ]
  },
  {
   "cell_type": "code",
   "execution_count": 10,
   "metadata": {
    "colab": {
     "base_uri": "https://localhost:8080/"
    },
    "executionInfo": {
     "elapsed": 3,
     "status": "ok",
     "timestamp": 1627305761767,
     "user": {
      "displayName": "Sakshi Shukla",
      "photoUrl": "https://lh3.googleusercontent.com/a-/AOh14Gg0R31KxEHq1SF2o2AnpiIYwwiUqmJyzu_qU_PeLhw=s64",
      "userId": "00536174429907799770"
     },
     "user_tz": -120
    },
    "id": "AXYfqHL7-LdW",
    "outputId": "8a96ae3b-c569-45ac-c044-95bce5a69d7d"
   },
   "outputs": [
    {
     "data": {
      "text/plain": [
       "array(['anger', 'shame', 'guilt', 'disgust', 'joy', 'sadness', 'fear'],\n",
       "      dtype=object)"
      ]
     },
     "execution_count": 10,
     "metadata": {
      "tags": []
     },
     "output_type": "execute_result"
    }
   ],
   "source": [
    "test.Label.unique()"
   ]
  },
  {
   "cell_type": "code",
   "execution_count": 11,
   "metadata": {
    "colab": {
     "base_uri": "https://localhost:8080/"
    },
    "executionInfo": {
     "elapsed": 13,
     "status": "ok",
     "timestamp": 1627305763043,
     "user": {
      "displayName": "Sakshi Shukla",
      "photoUrl": "https://lh3.googleusercontent.com/a-/AOh14Gg0R31KxEHq1SF2o2AnpiIYwwiUqmJyzu_qU_PeLhw=s64",
      "userId": "00536174429907799770"
     },
     "user_tz": -120
    },
    "id": "Y-YmF4c_ttAc",
    "outputId": "a4aaa947-87e8-4b45-e8b1-2c4da8fe8a7f"
   },
   "outputs": [
    {
     "data": {
      "text/plain": [
       "(5357, 1148, 1148)"
      ]
     },
     "execution_count": 11,
     "metadata": {
      "tags": []
     },
     "output_type": "execute_result"
    }
   ],
   "source": [
    "len(train), len(val), len(test)"
   ]
  },
  {
   "cell_type": "code",
   "execution_count": 12,
   "metadata": {
    "executionInfo": {
     "elapsed": 213,
     "status": "ok",
     "timestamp": 1627305763566,
     "user": {
      "displayName": "Sakshi Shukla",
      "photoUrl": "https://lh3.googleusercontent.com/a-/AOh14Gg0R31KxEHq1SF2o2AnpiIYwwiUqmJyzu_qU_PeLhw=s64",
      "userId": "00536174429907799770"
     },
     "user_tz": -120
    },
    "id": "Yg3_NYhntz79"
   },
   "outputs": [],
   "source": [
    "def remove_puncts(data):\n",
    "    new_data = re.sub(r'[^\\w\\s]', '', data)\n",
    "    return new_data"
   ]
  },
  {
   "cell_type": "code",
   "execution_count": 13,
   "metadata": {
    "executionInfo": {
     "elapsed": 9,
     "status": "ok",
     "timestamp": 1627305764269,
     "user": {
      "displayName": "Sakshi Shukla",
      "photoUrl": "https://lh3.googleusercontent.com/a-/AOh14Gg0R31KxEHq1SF2o2AnpiIYwwiUqmJyzu_qU_PeLhw=s64",
      "userId": "00536174429907799770"
     },
     "user_tz": -120
    },
    "id": "T4-4bTDEt6ts"
   },
   "outputs": [],
   "source": [
    "def remove_nums(data):\n",
    "    pattern = r'[0-9]'\n",
    "    new_data = re.sub(pattern, '', data)\n",
    "    return new_data"
   ]
  },
  {
   "cell_type": "code",
   "execution_count": 14,
   "metadata": {
    "executionInfo": {
     "elapsed": 5,
     "status": "ok",
     "timestamp": 1627305765140,
     "user": {
      "displayName": "Sakshi Shukla",
      "photoUrl": "https://lh3.googleusercontent.com/a-/AOh14Gg0R31KxEHq1SF2o2AnpiIYwwiUqmJyzu_qU_PeLhw=s64",
      "userId": "00536174429907799770"
     },
     "user_tz": -120
    },
    "id": "xxcZQgbnt8EI"
   },
   "outputs": [],
   "source": [
    "def remove_stop_words(data):\n",
    "    all_stopwords = sp.Defaults.stop_words\n",
    "    tokens = data.split(\" \")\n",
    "    tokens_filtered= [word for word in tokens if not word in all_stopwords]\n",
    "    return (\" \").join(tokens_filtered)"
   ]
  },
  {
   "cell_type": "code",
   "execution_count": 15,
   "metadata": {
    "executionInfo": {
     "elapsed": 14,
     "status": "ok",
     "timestamp": 1627305765927,
     "user": {
      "displayName": "Sakshi Shukla",
      "photoUrl": "https://lh3.googleusercontent.com/a-/AOh14Gg0R31KxEHq1SF2o2AnpiIYwwiUqmJyzu_qU_PeLhw=s64",
      "userId": "00536174429907799770"
     },
     "user_tz": -120
    },
    "id": "uaFE_D6Dt90X"
   },
   "outputs": [],
   "source": [
    "def remove_PRON(data):\n",
    "    pattern = r'-PRON-'\n",
    "    new_data = re.sub(pattern, '', data)\n",
    "    return new_data"
   ]
  },
  {
   "cell_type": "code",
   "execution_count": 16,
   "metadata": {
    "executionInfo": {
     "elapsed": 10,
     "status": "ok",
     "timestamp": 1627305766570,
     "user": {
      "displayName": "Sakshi Shukla",
      "photoUrl": "https://lh3.googleusercontent.com/a-/AOh14Gg0R31KxEHq1SF2o2AnpiIYwwiUqmJyzu_qU_PeLhw=s64",
      "userId": "00536174429907799770"
     },
     "user_tz": -120
    },
    "id": "5Y1erYCPuAI8"
   },
   "outputs": [],
   "source": [
    "def lemmatize(data):\n",
    "    new_string = ''\n",
    "    doc = sp(data)\n",
    "    for token in doc:\n",
    "        new_string= new_string +\" \"+ str(token.lemma_)\n",
    "    return new_string"
   ]
  },
  {
   "cell_type": "code",
   "execution_count": 17,
   "metadata": {
    "executionInfo": {
     "elapsed": 3,
     "status": "ok",
     "timestamp": 1627305767267,
     "user": {
      "displayName": "Sakshi Shukla",
      "photoUrl": "https://lh3.googleusercontent.com/a-/AOh14Gg0R31KxEHq1SF2o2AnpiIYwwiUqmJyzu_qU_PeLhw=s64",
      "userId": "00536174429907799770"
     },
     "user_tz": -120
    },
    "id": "CYWnXrzl1YAK"
   },
   "outputs": [],
   "source": [
    "def transform_label(data):\n",
    "    mapping = {'joy': 0, 'fear': 1, 'shame': 2, 'disgust': 3, 'sadness': 4, 'anger': 5, 'guilt':6}\n",
    "    for k,v in mapping.items():\n",
    "        if k == data:\n",
    "            return v\n",
    "    return -1"
   ]
  },
  {
   "cell_type": "code",
   "execution_count": 18,
   "metadata": {
    "executionInfo": {
     "elapsed": 4,
     "status": "ok",
     "timestamp": 1627305767974,
     "user": {
      "displayName": "Sakshi Shukla",
      "photoUrl": "https://lh3.googleusercontent.com/a-/AOh14Gg0R31KxEHq1SF2o2AnpiIYwwiUqmJyzu_qU_PeLhw=s64",
      "userId": "00536174429907799770"
     },
     "user_tz": -120
    },
    "id": "NNQWcs6puCG7"
   },
   "outputs": [],
   "source": [
    "def clean_data(data):\n",
    "    data['Text'] = data['Text'].str.lower()\n",
    "    data['Text'] = data.apply(lambda x: remove_nums(x['Text']), axis=1)\n",
    "    data['Text'] = data.apply(lambda x: remove_puncts(x['Text']), axis=1)\n",
    "    data['Text'] = data.apply(lambda x: remove_stop_words(x['Text']), axis=1)\n",
    "    data['Text'] = data.apply(lambda x: lemmatize(x['Text']), axis=1)\n",
    "    data['Text'] = data.apply(lambda x: remove_PRON(x['Text']), axis=1)\n",
    "    data['Label'] = data.apply(lambda x: transform_label(x['Label']), axis = 1)\n",
    "    return data"
   ]
  },
  {
   "cell_type": "code",
   "execution_count": 19,
   "metadata": {
    "executionInfo": {
     "elapsed": 50655,
     "status": "ok",
     "timestamp": 1627305819482,
     "user": {
      "displayName": "Sakshi Shukla",
      "photoUrl": "https://lh3.googleusercontent.com/a-/AOh14Gg0R31KxEHq1SF2o2AnpiIYwwiUqmJyzu_qU_PeLhw=s64",
      "userId": "00536174429907799770"
     },
     "user_tz": -120
    },
    "id": "cr6ewXOSuEJ1"
   },
   "outputs": [],
   "source": [
    "train = clean_data(train)\n",
    "val = clean_data(val)\n",
    "test = clean_data(test)"
   ]
  },
  {
   "cell_type": "code",
   "execution_count": 20,
   "metadata": {
    "colab": {
     "base_uri": "https://localhost:8080/",
     "height": 111
    },
    "executionInfo": {
     "elapsed": 22,
     "status": "ok",
     "timestamp": 1627305819487,
     "user": {
      "displayName": "Sakshi Shukla",
      "photoUrl": "https://lh3.googleusercontent.com/a-/AOh14Gg0R31KxEHq1SF2o2AnpiIYwwiUqmJyzu_qU_PeLhw=s64",
      "userId": "00536174429907799770"
     },
     "user_tz": -120
    },
    "id": "IA98y5ZSxvMs",
    "outputId": "f852bb3e-d49c-4ed3-900d-3fd18008422e"
   },
   "outputs": [
    {
     "data": {
      "text/html": [
       "<div>\n",
       "<style scoped>\n",
       "    .dataframe tbody tr th:only-of-type {\n",
       "        vertical-align: middle;\n",
       "    }\n",
       "\n",
       "    .dataframe tbody tr th {\n",
       "        vertical-align: top;\n",
       "    }\n",
       "\n",
       "    .dataframe thead th {\n",
       "        text-align: right;\n",
       "    }\n",
       "</style>\n",
       "<table border=\"1\" class=\"dataframe\">\n",
       "  <thead>\n",
       "    <tr style=\"text-align: right;\">\n",
       "      <th></th>\n",
       "      <th>Label</th>\n",
       "      <th>Text</th>\n",
       "    </tr>\n",
       "  </thead>\n",
       "  <tbody>\n",
       "    <tr>\n",
       "      <th>0</th>\n",
       "      <td>0</td>\n",
       "      <td>understood admit university</td>\n",
       "    </tr>\n",
       "    <tr>\n",
       "      <th>1</th>\n",
       "      <td>1</td>\n",
       "      <td>broke window neighbouring house fear mothers ...</td>\n",
       "    </tr>\n",
       "  </tbody>\n",
       "</table>\n",
       "</div>"
      ],
      "text/plain": [
       "   Label                                               Text\n",
       "0      0                        understood admit university\n",
       "1      1   broke window neighbouring house fear mothers ..."
      ]
     },
     "execution_count": 20,
     "metadata": {
      "tags": []
     },
     "output_type": "execute_result"
    }
   ],
   "source": [
    "train.head(2)"
   ]
  },
  {
   "cell_type": "code",
   "execution_count": 21,
   "metadata": {
    "colab": {
     "base_uri": "https://localhost:8080/"
    },
    "executionInfo": {
     "elapsed": 235,
     "status": "ok",
     "timestamp": 1627305826733,
     "user": {
      "displayName": "Sakshi Shukla",
      "photoUrl": "https://lh3.googleusercontent.com/a-/AOh14Gg0R31KxEHq1SF2o2AnpiIYwwiUqmJyzu_qU_PeLhw=s64",
      "userId": "00536174429907799770"
     },
     "user_tz": -120
    },
    "id": "ZXjj2Zxm1L0a",
    "outputId": "14158cf3-c16a-44a2-a502-54ff7b3599d2"
   },
   "outputs": [
    {
     "data": {
      "text/plain": [
       "(5357, 1148, 1148)"
      ]
     },
     "execution_count": 21,
     "metadata": {
      "tags": []
     },
     "output_type": "execute_result"
    }
   ],
   "source": [
    "len(train), len(val), len(test)"
   ]
  },
  {
   "cell_type": "code",
   "execution_count": 22,
   "metadata": {
    "colab": {
     "base_uri": "https://localhost:8080/",
     "height": 145,
     "referenced_widgets": [
      "17aeae884f3241d78af3d6a893b26ad8",
      "e7d0179e2b6d42d3b0599f799ec25309",
      "e19ad532ee27473ba66a7ea4d8765cb7",
      "52404d80088b405d9c9ecfd3bce1ccab",
      "c2356755ec90431ea992918c2044cabf",
      "29d02814b983450a993c893e10b9cf2e",
      "aae9727c44054543a98930da5ee18736",
      "8a0755a09cf84cfaa0753a7aa8453933",
      "1a338758556d422fba3dc3624394bfbd",
      "81a6b3f341ef45cc850e1f8a8593ee8f",
      "74ef11b9bb4f4e2fbb1886850916f87c",
      "02064272087042da98057330ec65fcca",
      "df31ae3330004e8183db4f0c6e0a43d2",
      "d7a6c11ab5774affa89ffbc0d5aad1af",
      "093a59e03ffa422caf8901d60ac64912",
      "f585c669906b481d9be095572fc40732",
      "c8d98422aa0d4d7ba81a941c39f367ad",
      "94df14e314df420f9b29c32063f850ee",
      "88537c8f16f34abf9eb1abf427e9c41c",
      "854ae8b081044aab89adee5155786119",
      "8018d7c6884c4cdba71373fd31d79fd2",
      "1586330ac32843729e4203610d57b236",
      "b0eb2726c4e746989f7b974222cff9b8",
      "d658735cbc084155bbd440f5bb97ca56",
      "0a1a03982ef64b29ac0e7a5c1cf75c5f",
      "6c986260d0a74d0b8382b6fe113ff11a",
      "bead5330cf064a70a1a556b5ba5d6b6b",
      "258a1fdc98144856a36370074f539540",
      "866075ea7111488ea68184a0d032b2db",
      "c87a025dc6f04de3a4ef3ea222881c77",
      "27a4c2c9e7de42c7a7291c0c13f1f46b",
      "e93bf00104124dfcb3588eba545bad9c",
      "3f8272d252934fd99d089bf5c5cd3584",
      "eba0c8339c754f75a8b6e1eeb5966fc1",
      "86e9fb83e3fa44c187bce32c5614283b",
      "4111491e7ea54d239a2f7fb0d8bccb76",
      "697f3c18c0ab48ed9e07ea42f1b1ffc4",
      "4dfc579318d9497d925c19bb4746a34f",
      "d60bd6de26b54d899384fd27915c7934",
      "2be0b930c90a4e72b8f2b3c5beebd203",
      "beb9866ed56f460a9882261aee693b5c",
      "09db42a8fcbc4807bcb088971b425f91",
      "71c96f1d120e427294e4df8f57956e0c",
      "588a6e65d9064c3c8137f440ccf30663"
     ]
    },
    "executionInfo": {
     "elapsed": 936,
     "status": "ok",
     "timestamp": 1627305828868,
     "user": {
      "displayName": "Sakshi Shukla",
      "photoUrl": "https://lh3.googleusercontent.com/a-/AOh14Gg0R31KxEHq1SF2o2AnpiIYwwiUqmJyzu_qU_PeLhw=s64",
      "userId": "00536174429907799770"
     },
     "user_tz": -120
    },
    "id": "auLbYX0QuGwD",
    "outputId": "9e2fb835-0f50-4363-fa76-a104cf764323"
   },
   "outputs": [
    {
     "data": {
      "application/vnd.jupyter.widget-view+json": {
       "model_id": "17aeae884f3241d78af3d6a893b26ad8",
       "version_major": 2,
       "version_minor": 0
      },
      "text/plain": [
       "Downloading:   0%|          | 0.00/232k [00:00<?, ?B/s]"
      ]
     },
     "metadata": {
      "tags": []
     },
     "output_type": "display_data"
    },
    {
     "data": {
      "application/vnd.jupyter.widget-view+json": {
       "model_id": "02064272087042da98057330ec65fcca",
       "version_major": 2,
       "version_minor": 0
      },
      "text/plain": [
       "Downloading:   0%|          | 0.00/28.0 [00:00<?, ?B/s]"
      ]
     },
     "metadata": {
      "tags": []
     },
     "output_type": "display_data"
    },
    {
     "data": {
      "application/vnd.jupyter.widget-view+json": {
       "model_id": "b0eb2726c4e746989f7b974222cff9b8",
       "version_major": 2,
       "version_minor": 0
      },
      "text/plain": [
       "Downloading:   0%|          | 0.00/466k [00:00<?, ?B/s]"
      ]
     },
     "metadata": {
      "tags": []
     },
     "output_type": "display_data"
    },
    {
     "data": {
      "application/vnd.jupyter.widget-view+json": {
       "model_id": "eba0c8339c754f75a8b6e1eeb5966fc1",
       "version_major": 2,
       "version_minor": 0
      },
      "text/plain": [
       "Downloading:   0%|          | 0.00/570 [00:00<?, ?B/s]"
      ]
     },
     "metadata": {
      "tags": []
     },
     "output_type": "display_data"
    }
   ],
   "source": [
    "tokenizer = BertTokenizer.from_pretrained('bert-base-uncased', do_lower_case=True)"
   ]
  },
  {
   "cell_type": "code",
   "execution_count": 23,
   "metadata": {
    "executionInfo": {
     "elapsed": 227,
     "status": "ok",
     "timestamp": 1627305830316,
     "user": {
      "displayName": "Sakshi Shukla",
      "photoUrl": "https://lh3.googleusercontent.com/a-/AOh14Gg0R31KxEHq1SF2o2AnpiIYwwiUqmJyzu_qU_PeLhw=s64",
      "userId": "00536174429907799770"
     },
     "user_tz": -120
    },
    "id": "aDBqcfBgu_Ri"
   },
   "outputs": [],
   "source": [
    "def create_input_id(data) :\n",
    "    max_len = 0\n",
    "    for text in data['Text']:\n",
    "        input_ids = tokenizer.encode(text, add_special_tokens=True)\n",
    "        max_len = max(max_len, len(input_ids))\n",
    "    return max_len"
   ]
  },
  {
   "cell_type": "code",
   "execution_count": 24,
   "metadata": {
    "executionInfo": {
     "elapsed": 2992,
     "status": "ok",
     "timestamp": 1627305835058,
     "user": {
      "displayName": "Sakshi Shukla",
      "photoUrl": "https://lh3.googleusercontent.com/a-/AOh14Gg0R31KxEHq1SF2o2AnpiIYwwiUqmJyzu_qU_PeLhw=s64",
      "userId": "00536174429907799770"
     },
     "user_tz": -120
    },
    "id": "qS7MjiyBvHLh"
   },
   "outputs": [],
   "source": [
    "maximum_length_generated_train = create_input_id(train)\n",
    "maximum_length_generated_val = create_input_id(val)\n",
    "maximum_length_generated_test = create_input_id(test)"
   ]
  },
  {
   "cell_type": "code",
   "execution_count": 25,
   "metadata": {
    "colab": {
     "base_uri": "https://localhost:8080/"
    },
    "executionInfo": {
     "elapsed": 198,
     "status": "ok",
     "timestamp": 1627305837797,
     "user": {
      "displayName": "Sakshi Shukla",
      "photoUrl": "https://lh3.googleusercontent.com/a-/AOh14Gg0R31KxEHq1SF2o2AnpiIYwwiUqmJyzu_qU_PeLhw=s64",
      "userId": "00536174429907799770"
     },
     "user_tz": -120
    },
    "id": "D32SCkeTvJHm",
    "outputId": "0d6308f7-acc0-4f92-8857-c226019b70e2"
   },
   "outputs": [
    {
     "data": {
      "text/plain": [
       "(72, 67, 56)"
      ]
     },
     "execution_count": 25,
     "metadata": {
      "tags": []
     },
     "output_type": "execute_result"
    }
   ],
   "source": [
    "maximum_length_generated_train, maximum_length_generated_val, maximum_length_generated_test"
   ]
  },
  {
   "cell_type": "code",
   "execution_count": 26,
   "metadata": {
    "executionInfo": {
     "elapsed": 6,
     "status": "ok",
     "timestamp": 1627305838896,
     "user": {
      "displayName": "Sakshi Shukla",
      "photoUrl": "https://lh3.googleusercontent.com/a-/AOh14Gg0R31KxEHq1SF2o2AnpiIYwwiUqmJyzu_qU_PeLhw=s64",
      "userId": "00536174429907799770"
     },
     "user_tz": -120
    },
    "id": "CbK61btYvMYg"
   },
   "outputs": [],
   "source": [
    "def preprocessing_bert(data, max_len):\n",
    "    text = data['Text'].values\n",
    "    emotion = data['Label'].values\n",
    "    encode = tokenizer.batch_encode_plus(text, add_special_tokens=True, \n",
    "                                       padding='max_length', max_length= max_len,\n",
    "                                       pad_to_max_length=True, return_token_type_ids=True,\n",
    "                                       return_attention_mask=True, return_tensors='pt')\n",
    "    updated_input_id = encode['input_ids']\n",
    "    attention_masks = encode['attention_mask']\n",
    "    token_type_ids = encode['token_type_ids']\n",
    "\n",
    "    return updated_input_id, attention_masks, token_type_ids, emotion"
   ]
  },
  {
   "cell_type": "code",
   "execution_count": 27,
   "metadata": {
    "executionInfo": {
     "elapsed": 2799,
     "status": "ok",
     "timestamp": 1627305842804,
     "user": {
      "displayName": "Sakshi Shukla",
      "photoUrl": "https://lh3.googleusercontent.com/a-/AOh14Gg0R31KxEHq1SF2o2AnpiIYwwiUqmJyzu_qU_PeLhw=s64",
      "userId": "00536174429907799770"
     },
     "user_tz": -120
    },
    "id": "NfxQrSANvPD_"
   },
   "outputs": [],
   "source": [
    "updated_input_id_train, attention_masks_train, token_type_ids_train, emotion_train = preprocessing_bert(train, \n",
    "                                             maximum_length_generated_train)\n",
    "\n",
    "updated_input_id_val, attention_masks_val, token_type_ids_val, emotion_val = preprocessing_bert(val, \n",
    "                                             maximum_length_generated_val)\n",
    "\n",
    "updated_input_id_test, attention_masks_test, token_type_ids_test, emotion_test = preprocessing_bert(test, \n",
    "                                             maximum_length_generated_test)"
   ]
  },
  {
   "cell_type": "code",
   "execution_count": 28,
   "metadata": {
    "colab": {
     "base_uri": "https://localhost:8080/"
    },
    "executionInfo": {
     "elapsed": 239,
     "status": "ok",
     "timestamp": 1627305844654,
     "user": {
      "displayName": "Sakshi Shukla",
      "photoUrl": "https://lh3.googleusercontent.com/a-/AOh14Gg0R31KxEHq1SF2o2AnpiIYwwiUqmJyzu_qU_PeLhw=s64",
      "userId": "00536174429907799770"
     },
     "user_tz": -120
    },
    "id": "aUeOXQESvRjp",
    "outputId": "801f3efc-cfa6-4a62-d793-158f14ae1bd5"
   },
   "outputs": [
    {
     "data": {
      "text/plain": [
       "(5357, 1148, 1148)"
      ]
     },
     "execution_count": 28,
     "metadata": {
      "tags": []
     },
     "output_type": "execute_result"
    }
   ],
   "source": [
    "len(emotion_train), len(emotion_val), len(emotion_test)"
   ]
  },
  {
   "cell_type": "code",
   "execution_count": 29,
   "metadata": {
    "executionInfo": {
     "elapsed": 7,
     "status": "ok",
     "timestamp": 1627305845674,
     "user": {
      "displayName": "Sakshi Shukla",
      "photoUrl": "https://lh3.googleusercontent.com/a-/AOh14Gg0R31KxEHq1SF2o2AnpiIYwwiUqmJyzu_qU_PeLhw=s64",
      "userId": "00536174429907799770"
     },
     "user_tz": -120
    },
    "id": "M6lRPaeBv0bg"
   },
   "outputs": [],
   "source": [
    "class DataExploration:\n",
    "    def __init__(self, updated_input_ids, attention_masks, token_type_ids, emotion, is_test=False):\n",
    "        self.tokens = updated_input_ids\n",
    "        self.masks = attention_masks\n",
    "        self.token_type_ids = token_type_ids\n",
    "        self.labels = emotion\n",
    "\n",
    "    def __len__(self):\n",
    "        return self.tokens.shape[0]\n",
    "\n",
    "    def __getitem__(self, idx):\n",
    "        return {\n",
    "            \"input_ids\": self.tokens[idx],\n",
    "            \"attention_mask\": self.masks[idx],\n",
    "            \"token_type_ids\": self.token_type_ids[idx],\n",
    "            \"labels\": torch.tensor(self.labels[idx]).unsqueeze(0)\n",
    "        } "
   ]
  },
  {
   "cell_type": "code",
   "execution_count": 30,
   "metadata": {
    "executionInfo": {
     "elapsed": 2,
     "status": "ok",
     "timestamp": 1627305846985,
     "user": {
      "displayName": "Sakshi Shukla",
      "photoUrl": "https://lh3.googleusercontent.com/a-/AOh14Gg0R31KxEHq1SF2o2AnpiIYwwiUqmJyzu_qU_PeLhw=s64",
      "userId": "00536174429907799770"
     },
     "user_tz": -120
    },
    "id": "jFfLhDSWv3UM"
   },
   "outputs": [],
   "source": [
    "data_train = DataExploration(updated_input_id_train, attention_masks_train, token_type_ids_train, emotion_train)\n",
    "data_loader_train = torch.utils.data.DataLoader(data_train, batch_size=16, shuffle=True)\n",
    "\n",
    "data_val = DataExploration(updated_input_id_val, attention_masks_val, token_type_ids_val, emotion_val)\n",
    "data_loader_val = torch.utils.data.DataLoader(data_val, batch_size=16, shuffle=True)\n",
    "\n",
    "data_test = DataExploration(updated_input_id_test, attention_masks_test, token_type_ids_test, emotion_test)\n",
    "data_loader_test = torch.utils.data.DataLoader(data_test, batch_size=16, shuffle=True)"
   ]
  },
  {
   "cell_type": "code",
   "execution_count": 31,
   "metadata": {
    "colab": {
     "base_uri": "https://localhost:8080/",
     "height": 154,
     "referenced_widgets": [
      "9d9fb75667284944bd7e81665170f5d1",
      "e2c0b6f4bf5445c581250bff9d26e984",
      "26aee0529ffa43eb8830f6aa47d9712c",
      "0d2df2abf1f74508aecfb514aae9e211",
      "2176db793cc64b5b9bdd48b6656f34cc",
      "6c182e4af63b48a3891a616c2cdd9834",
      "eb2db53dcd044c889016b29169129e57",
      "e87e54ad0ad04282ad6a36955af29308",
      "367df59a5e284d69a98f067d749724cf",
      "c5062bea56404548b529bdfdbd1c6db0",
      "e60835f96a214035bcd5bc7b4261b7a9"
     ]
    },
    "executionInfo": {
     "elapsed": 22578,
     "status": "ok",
     "timestamp": 1627305870457,
     "user": {
      "displayName": "Sakshi Shukla",
      "photoUrl": "https://lh3.googleusercontent.com/a-/AOh14Gg0R31KxEHq1SF2o2AnpiIYwwiUqmJyzu_qU_PeLhw=s64",
      "userId": "00536174429907799770"
     },
     "user_tz": -120
    },
    "id": "xLccDyYsv6G3",
    "outputId": "a00e206e-648c-4acd-8b61-ec68178eecb9"
   },
   "outputs": [
    {
     "data": {
      "application/vnd.jupyter.widget-view+json": {
       "model_id": "9d9fb75667284944bd7e81665170f5d1",
       "version_major": 2,
       "version_minor": 0
      },
      "text/plain": [
       "Downloading:   0%|          | 0.00/440M [00:00<?, ?B/s]"
      ]
     },
     "metadata": {
      "tags": []
     },
     "output_type": "display_data"
    },
    {
     "name": "stderr",
     "output_type": "stream",
     "text": [
      "Some weights of the model checkpoint at bert-base-uncased were not used when initializing BertForSequenceClassification: ['cls.seq_relationship.bias', 'cls.predictions.transform.LayerNorm.weight', 'cls.predictions.bias', 'cls.predictions.decoder.weight', 'cls.predictions.transform.dense.bias', 'cls.predictions.transform.LayerNorm.bias', 'cls.seq_relationship.weight', 'cls.predictions.transform.dense.weight']\n",
      "- This IS expected if you are initializing BertForSequenceClassification from the checkpoint of a model trained on another task or with another architecture (e.g. initializing a BertForSequenceClassification model from a BertForPreTraining model).\n",
      "- This IS NOT expected if you are initializing BertForSequenceClassification from the checkpoint of a model that you expect to be exactly identical (initializing a BertForSequenceClassification model from a BertForSequenceClassification model).\n",
      "Some weights of BertForSequenceClassification were not initialized from the model checkpoint at bert-base-uncased and are newly initialized: ['classifier.bias', 'classifier.weight']\n",
      "You should probably TRAIN this model on a down-stream task to be able to use it for predictions and inference.\n"
     ]
    }
   ],
   "source": [
    "model = BertForSequenceClassification.from_pretrained(\"bert-base-uncased\",\n",
    "                                                      num_labels=7,\n",
    "                                                      output_attentions=False,\n",
    "                                                      output_hidden_states=False)\n",
    "model.classifier\n",
    "num_epochs= 3\n",
    "device = torch.device(\"cuda\") if torch.cuda.is_available() else torch.device(\"cpu\")\n",
    "model.to(device);"
   ]
  },
  {
   "cell_type": "code",
   "execution_count": 32,
   "metadata": {
    "executionInfo": {
     "elapsed": 210,
     "status": "ok",
     "timestamp": 1627305873161,
     "user": {
      "displayName": "Sakshi Shukla",
      "photoUrl": "https://lh3.googleusercontent.com/a-/AOh14Gg0R31KxEHq1SF2o2AnpiIYwwiUqmJyzu_qU_PeLhw=s64",
      "userId": "00536174429907799770"
     },
     "user_tz": -120
    },
    "id": "8ja8LDUPv-MF"
   },
   "outputs": [],
   "source": [
    "def get_params(data_loader):\n",
    "    num_training_steps = num_epochs * len(data_loader)\n",
    "    optimizer = AdamW(model.parameters(), lr=5e-5)\n",
    "    lr_scheduler = get_scheduler(\"linear\", optimizer=optimizer,\n",
    "      num_warmup_steps=0,num_training_steps=num_training_steps)\n",
    "\n",
    "    return num_training_steps, optimizer, lr_scheduler"
   ]
  },
  {
   "cell_type": "code",
   "execution_count": 33,
   "metadata": {
    "executionInfo": {
     "elapsed": 242,
     "status": "ok",
     "timestamp": 1627305875022,
     "user": {
      "displayName": "Sakshi Shukla",
      "photoUrl": "https://lh3.googleusercontent.com/a-/AOh14Gg0R31KxEHq1SF2o2AnpiIYwwiUqmJyzu_qU_PeLhw=s64",
      "userId": "00536174429907799770"
     },
     "user_tz": -120
    },
    "id": "SaGM-hJ4wDSX"
   },
   "outputs": [],
   "source": [
    "num_training_steps_train, optimizer_train, lr_scheduler_train = get_params(data_loader_train)\n",
    "num_training_steps_val, optimizer_val, lr_scheduler_val = get_params(data_loader_val)\n",
    "num_training_steps_test, optimizer_test, lr_scheduler_test = get_params(data_loader_test)"
   ]
  },
  {
   "cell_type": "code",
   "execution_count": 36,
   "metadata": {
    "executionInfo": {
     "elapsed": 228,
     "status": "ok",
     "timestamp": 1627306105267,
     "user": {
      "displayName": "Sakshi Shukla",
      "photoUrl": "https://lh3.googleusercontent.com/a-/AOh14Gg0R31KxEHq1SF2o2AnpiIYwwiUqmJyzu_qU_PeLhw=s64",
      "userId": "00536174429907799770"
     },
     "user_tz": -120
    },
    "id": "P9E8SWljwFJ4"
   },
   "outputs": [],
   "source": [
    "def train(num_training_steps, data_loader, optimizer, lr_scheduler):\n",
    "    progress_bar = tqdm(range(num_training_steps))\n",
    "    metric = load_metric(\"accuracy\")\n",
    "    for epoch in range(num_epochs):\n",
    "        progress_bar.set_description(\"Processing %s\" % epoch)\n",
    "        model.train()\n",
    "        for bid, batch in enumerate(data_loader):\n",
    "            batch = {k: v.to(device) for k, v in batch.items()}\n",
    "            outputs = model(**batch)\n",
    "            loss = outputs.loss\n",
    "            loss.backward()\n",
    "            optimizer.step()\n",
    "            lr_scheduler.step()\n",
    "            optimizer.zero_grad()\n",
    "            progress_bar.set_postfix(loss=loss.item())\n",
    "            progress_bar.update(1)\n",
    "            if bid%100==0:\n",
    "                model.eval()\n",
    "                for batch in data_loader_val:\n",
    "                    batch = {k: v.to(device) for k, v in batch.items()}\n",
    "                    with torch.no_grad():\n",
    "                        outputs = model(**batch)\n",
    "                    logits = outputs.logits\n",
    "                    predictions = torch.argmax(logits, dim=-1)\n",
    "                    metric.add_batch(predictions=predictions, references=batch[\"labels\"].view(-1))\n",
    "                print(metric.compute())\n",
    "    progress_bar.close()"
   ]
  },
  {
   "cell_type": "code",
   "execution_count": 37,
   "metadata": {
    "colab": {
     "base_uri": "https://localhost:8080/",
     "height": 253,
     "referenced_widgets": [
      "fb425d117cf34ddf8f8151ffd471b46b",
      "6570c39ec0174a55977843f2663c8f31",
      "6adeb0e45f214c1296f0c393358943e9",
      "a2382bf9437e42b38952422b38b7a0e9",
      "c56fb8b9bead46b89e01d55245409c62",
      "fd3ff679292e42358435bb8f6bc623be",
      "24b59470045e40d58df00e6cdd81729f",
      "d4f1d8edc59e4400a55069ee4f1ee63b",
      "ec68d3c88ec64f748589f55f3d313df6",
      "21705045e3844a58b69bdf9c3f717a85",
      "0f71866847524f608ee1cd8827185242"
     ]
    },
    "executionInfo": {
     "elapsed": 284272,
     "status": "ok",
     "timestamp": 1627306390855,
     "user": {
      "displayName": "Sakshi Shukla",
      "photoUrl": "https://lh3.googleusercontent.com/a-/AOh14Gg0R31KxEHq1SF2o2AnpiIYwwiUqmJyzu_qU_PeLhw=s64",
      "userId": "00536174429907799770"
     },
     "user_tz": -120
    },
    "id": "4mk0YA7twI6i",
    "outputId": "d99097ab-5267-4b99-b4f6-488f4ae36605"
   },
   "outputs": [
    {
     "data": {
      "application/vnd.jupyter.widget-view+json": {
       "model_id": "fb425d117cf34ddf8f8151ffd471b46b",
       "version_major": 2,
       "version_minor": 0
      },
      "text/plain": [
       "  0%|          | 0/1005 [00:00<?, ?it/s]"
      ]
     },
     "metadata": {
      "tags": []
     },
     "output_type": "display_data"
    },
    {
     "name": "stdout",
     "output_type": "stream",
     "text": [
      "{'accuracy': 0.5905923344947736}\n",
      "{'accuracy': 0.5958188153310104}\n",
      "{'accuracy': 0.5932055749128919}\n",
      "{'accuracy': 0.5966898954703833}\n",
      "{'accuracy': 0.6019163763066202}\n",
      "{'accuracy': 0.6019163763066202}\n",
      "{'accuracy': 0.6019163763066202}\n",
      "{'accuracy': 0.6019163763066202}\n",
      "{'accuracy': 0.6019163763066202}\n",
      "{'accuracy': 0.6019163763066202}\n",
      "{'accuracy': 0.6019163763066202}\n",
      "{'accuracy': 0.6019163763066202}\n"
     ]
    }
   ],
   "source": [
    "train(num_training_steps_train, data_loader_train, optimizer_train, lr_scheduler_train)"
   ]
  },
  {
   "cell_type": "code",
   "execution_count": 38,
   "metadata": {
    "executionInfo": {
     "elapsed": 284,
     "status": "ok",
     "timestamp": 1627306414693,
     "user": {
      "displayName": "Sakshi Shukla",
      "photoUrl": "https://lh3.googleusercontent.com/a-/AOh14Gg0R31KxEHq1SF2o2AnpiIYwwiUqmJyzu_qU_PeLhw=s64",
      "userId": "00536174429907799770"
     },
     "user_tz": -120
    },
    "id": "ik2FjGlmwR9C"
   },
   "outputs": [],
   "source": [
    "def predict(num_training_steps, data_loader, optimizer, lr_scheduler):\n",
    "    metric = load_metric(\"accuracy\")\n",
    "    model.eval()\n",
    "    for batch in data_loader:\n",
    "        batch = {k: v.to(device) for k, v in batch.items()}\n",
    "        with torch.no_grad():\n",
    "            outputs = model(**batch)\n",
    "        logits = outputs.logits\n",
    "        predictions = torch.argmax(logits, dim=-1)\n",
    "        metric.add_batch(predictions=predictions, references=batch[\"labels\"].view(-1))\n",
    "    print(metric.compute())"
   ]
  },
  {
   "cell_type": "code",
   "execution_count": 39,
   "metadata": {
    "colab": {
     "base_uri": "https://localhost:8080/"
    },
    "executionInfo": {
     "elapsed": 4401,
     "status": "ok",
     "timestamp": 1627306421385,
     "user": {
      "displayName": "Sakshi Shukla",
      "photoUrl": "https://lh3.googleusercontent.com/a-/AOh14Gg0R31KxEHq1SF2o2AnpiIYwwiUqmJyzu_qU_PeLhw=s64",
      "userId": "00536174429907799770"
     },
     "user_tz": -120
    },
    "id": "sBEtcpoewUtY",
    "outputId": "ea791195-c417-443c-b153-35e925ae9eaa"
   },
   "outputs": [
    {
     "name": "stdout",
     "output_type": "stream",
     "text": [
      "{'accuracy': 0.6167247386759582}\n"
     ]
    }
   ],
   "source": [
    "predict(num_training_steps_test, data_loader_test, optimizer_test, lr_scheduler_test)"
   ]
  },
  {
   "cell_type": "code",
   "execution_count": 40,
   "metadata": {
    "executionInfo": {
     "elapsed": 1416,
     "status": "ok",
     "timestamp": 1627306426673,
     "user": {
      "displayName": "Sakshi Shukla",
      "photoUrl": "https://lh3.googleusercontent.com/a-/AOh14Gg0R31KxEHq1SF2o2AnpiIYwwiUqmJyzu_qU_PeLhw=s64",
      "userId": "00536174429907799770"
     },
     "user_tz": -120
    },
    "id": "8B24ULNVwYTx"
   },
   "outputs": [],
   "source": [
    "torch.save(model, 'emotion_classifier_with_data_cleaning_isear')"
   ]
  },
  {
   "cell_type": "code",
   "execution_count": null,
   "metadata": {
    "id": "hNbiRHDEBXob"
   },
   "outputs": [],
   "source": []
  }
 ],
 "metadata": {
  "accelerator": "GPU",
  "colab": {
   "authorship_tag": "ABX9TyMZa+BO1DWeMicE5ut9YbtU",
   "collapsed_sections": [],
   "name": "EC_ISEAR_bert_with_data_cleaning.ipynb",
   "provenance": []
  },
  "kernelspec": {
   "display_name": "Python 3",
   "language": "python",
   "name": "python3"
  },
  "language_info": {
   "codemirror_mode": {
    "name": "ipython",
    "version": 3
   },
   "file_extension": ".py",
   "mimetype": "text/x-python",
   "name": "python",
   "nbconvert_exporter": "python",
   "pygments_lexer": "ipython3",
   "version": "3.6.9"
  },
  "widgets": {
   "application/vnd.jupyter.widget-state+json": {
    "02064272087042da98057330ec65fcca": {
     "model_module": "@jupyter-widgets/controls",
     "model_name": "HBoxModel",
     "state": {
      "_dom_classes": [],
      "_model_module": "@jupyter-widgets/controls",
      "_model_module_version": "1.5.0",
      "_model_name": "HBoxModel",
      "_view_count": null,
      "_view_module": "@jupyter-widgets/controls",
      "_view_module_version": "1.5.0",
      "_view_name": "HBoxView",
      "box_style": "",
      "children": [
       "IPY_MODEL_d7a6c11ab5774affa89ffbc0d5aad1af",
       "IPY_MODEL_093a59e03ffa422caf8901d60ac64912",
       "IPY_MODEL_f585c669906b481d9be095572fc40732"
      ],
      "layout": "IPY_MODEL_df31ae3330004e8183db4f0c6e0a43d2"
     }
    },
    "093a59e03ffa422caf8901d60ac64912": {
     "model_module": "@jupyter-widgets/controls",
     "model_name": "FloatProgressModel",
     "state": {
      "_dom_classes": [],
      "_model_module": "@jupyter-widgets/controls",
      "_model_module_version": "1.5.0",
      "_model_name": "FloatProgressModel",
      "_view_count": null,
      "_view_module": "@jupyter-widgets/controls",
      "_view_module_version": "1.5.0",
      "_view_name": "ProgressView",
      "bar_style": "success",
      "description": "",
      "description_tooltip": null,
      "layout": "IPY_MODEL_854ae8b081044aab89adee5155786119",
      "max": 28,
      "min": 0,
      "orientation": "horizontal",
      "style": "IPY_MODEL_88537c8f16f34abf9eb1abf427e9c41c",
      "value": 28
     }
    },
    "09db42a8fcbc4807bcb088971b425f91": {
     "model_module": "@jupyter-widgets/base",
     "model_name": "LayoutModel",
     "state": {
      "_model_module": "@jupyter-widgets/base",
      "_model_module_version": "1.2.0",
      "_model_name": "LayoutModel",
      "_view_count": null,
      "_view_module": "@jupyter-widgets/base",
      "_view_module_version": "1.2.0",
      "_view_name": "LayoutView",
      "align_content": null,
      "align_items": null,
      "align_self": null,
      "border": null,
      "bottom": null,
      "display": null,
      "flex": null,
      "flex_flow": null,
      "grid_area": null,
      "grid_auto_columns": null,
      "grid_auto_flow": null,
      "grid_auto_rows": null,
      "grid_column": null,
      "grid_gap": null,
      "grid_row": null,
      "grid_template_areas": null,
      "grid_template_columns": null,
      "grid_template_rows": null,
      "height": null,
      "justify_content": null,
      "justify_items": null,
      "left": null,
      "margin": null,
      "max_height": null,
      "max_width": null,
      "min_height": null,
      "min_width": null,
      "object_fit": null,
      "object_position": null,
      "order": null,
      "overflow": null,
      "overflow_x": null,
      "overflow_y": null,
      "padding": null,
      "right": null,
      "top": null,
      "visibility": null,
      "width": null
     }
    },
    "0a1a03982ef64b29ac0e7a5c1cf75c5f": {
     "model_module": "@jupyter-widgets/controls",
     "model_name": "HTMLModel",
     "state": {
      "_dom_classes": [],
      "_model_module": "@jupyter-widgets/controls",
      "_model_module_version": "1.5.0",
      "_model_name": "HTMLModel",
      "_view_count": null,
      "_view_module": "@jupyter-widgets/controls",
      "_view_module_version": "1.5.0",
      "_view_name": "HTMLView",
      "description": "",
      "description_tooltip": null,
      "layout": "IPY_MODEL_866075ea7111488ea68184a0d032b2db",
      "placeholder": "​",
      "style": "IPY_MODEL_258a1fdc98144856a36370074f539540",
      "value": "Downloading: 100%"
     }
    },
    "0d2df2abf1f74508aecfb514aae9e211": {
     "model_module": "@jupyter-widgets/controls",
     "model_name": "FloatProgressModel",
     "state": {
      "_dom_classes": [],
      "_model_module": "@jupyter-widgets/controls",
      "_model_module_version": "1.5.0",
      "_model_name": "FloatProgressModel",
      "_view_count": null,
      "_view_module": "@jupyter-widgets/controls",
      "_view_module_version": "1.5.0",
      "_view_name": "ProgressView",
      "bar_style": "success",
      "description": "",
      "description_tooltip": null,
      "layout": "IPY_MODEL_367df59a5e284d69a98f067d749724cf",
      "max": 440473133,
      "min": 0,
      "orientation": "horizontal",
      "style": "IPY_MODEL_e87e54ad0ad04282ad6a36955af29308",
      "value": 440473133
     }
    },
    "0f71866847524f608ee1cd8827185242": {
     "model_module": "@jupyter-widgets/base",
     "model_name": "LayoutModel",
     "state": {
      "_model_module": "@jupyter-widgets/base",
      "_model_module_version": "1.2.0",
      "_model_name": "LayoutModel",
      "_view_count": null,
      "_view_module": "@jupyter-widgets/base",
      "_view_module_version": "1.2.0",
      "_view_name": "LayoutView",
      "align_content": null,
      "align_items": null,
      "align_self": null,
      "border": null,
      "bottom": null,
      "display": null,
      "flex": null,
      "flex_flow": null,
      "grid_area": null,
      "grid_auto_columns": null,
      "grid_auto_flow": null,
      "grid_auto_rows": null,
      "grid_column": null,
      "grid_gap": null,
      "grid_row": null,
      "grid_template_areas": null,
      "grid_template_columns": null,
      "grid_template_rows": null,
      "height": null,
      "justify_content": null,
      "justify_items": null,
      "left": null,
      "margin": null,
      "max_height": null,
      "max_width": null,
      "min_height": null,
      "min_width": null,
      "object_fit": null,
      "object_position": null,
      "order": null,
      "overflow": null,
      "overflow_x": null,
      "overflow_y": null,
      "padding": null,
      "right": null,
      "top": null,
      "visibility": null,
      "width": null
     }
    },
    "1586330ac32843729e4203610d57b236": {
     "model_module": "@jupyter-widgets/base",
     "model_name": "LayoutModel",
     "state": {
      "_model_module": "@jupyter-widgets/base",
      "_model_module_version": "1.2.0",
      "_model_name": "LayoutModel",
      "_view_count": null,
      "_view_module": "@jupyter-widgets/base",
      "_view_module_version": "1.2.0",
      "_view_name": "LayoutView",
      "align_content": null,
      "align_items": null,
      "align_self": null,
      "border": null,
      "bottom": null,
      "display": null,
      "flex": null,
      "flex_flow": null,
      "grid_area": null,
      "grid_auto_columns": null,
      "grid_auto_flow": null,
      "grid_auto_rows": null,
      "grid_column": null,
      "grid_gap": null,
      "grid_row": null,
      "grid_template_areas": null,
      "grid_template_columns": null,
      "grid_template_rows": null,
      "height": null,
      "justify_content": null,
      "justify_items": null,
      "left": null,
      "margin": null,
      "max_height": null,
      "max_width": null,
      "min_height": null,
      "min_width": null,
      "object_fit": null,
      "object_position": null,
      "order": null,
      "overflow": null,
      "overflow_x": null,
      "overflow_y": null,
      "padding": null,
      "right": null,
      "top": null,
      "visibility": null,
      "width": null
     }
    },
    "17aeae884f3241d78af3d6a893b26ad8": {
     "model_module": "@jupyter-widgets/controls",
     "model_name": "HBoxModel",
     "state": {
      "_dom_classes": [],
      "_model_module": "@jupyter-widgets/controls",
      "_model_module_version": "1.5.0",
      "_model_name": "HBoxModel",
      "_view_count": null,
      "_view_module": "@jupyter-widgets/controls",
      "_view_module_version": "1.5.0",
      "_view_name": "HBoxView",
      "box_style": "",
      "children": [
       "IPY_MODEL_e19ad532ee27473ba66a7ea4d8765cb7",
       "IPY_MODEL_52404d80088b405d9c9ecfd3bce1ccab",
       "IPY_MODEL_c2356755ec90431ea992918c2044cabf"
      ],
      "layout": "IPY_MODEL_e7d0179e2b6d42d3b0599f799ec25309"
     }
    },
    "1a338758556d422fba3dc3624394bfbd": {
     "model_module": "@jupyter-widgets/base",
     "model_name": "LayoutModel",
     "state": {
      "_model_module": "@jupyter-widgets/base",
      "_model_module_version": "1.2.0",
      "_model_name": "LayoutModel",
      "_view_count": null,
      "_view_module": "@jupyter-widgets/base",
      "_view_module_version": "1.2.0",
      "_view_name": "LayoutView",
      "align_content": null,
      "align_items": null,
      "align_self": null,
      "border": null,
      "bottom": null,
      "display": null,
      "flex": null,
      "flex_flow": null,
      "grid_area": null,
      "grid_auto_columns": null,
      "grid_auto_flow": null,
      "grid_auto_rows": null,
      "grid_column": null,
      "grid_gap": null,
      "grid_row": null,
      "grid_template_areas": null,
      "grid_template_columns": null,
      "grid_template_rows": null,
      "height": null,
      "justify_content": null,
      "justify_items": null,
      "left": null,
      "margin": null,
      "max_height": null,
      "max_width": null,
      "min_height": null,
      "min_width": null,
      "object_fit": null,
      "object_position": null,
      "order": null,
      "overflow": null,
      "overflow_x": null,
      "overflow_y": null,
      "padding": null,
      "right": null,
      "top": null,
      "visibility": null,
      "width": null
     }
    },
    "21705045e3844a58b69bdf9c3f717a85": {
     "model_module": "@jupyter-widgets/controls",
     "model_name": "DescriptionStyleModel",
     "state": {
      "_model_module": "@jupyter-widgets/controls",
      "_model_module_version": "1.5.0",
      "_model_name": "DescriptionStyleModel",
      "_view_count": null,
      "_view_module": "@jupyter-widgets/base",
      "_view_module_version": "1.2.0",
      "_view_name": "StyleView",
      "description_width": ""
     }
    },
    "2176db793cc64b5b9bdd48b6656f34cc": {
     "model_module": "@jupyter-widgets/controls",
     "model_name": "HTMLModel",
     "state": {
      "_dom_classes": [],
      "_model_module": "@jupyter-widgets/controls",
      "_model_module_version": "1.5.0",
      "_model_name": "HTMLModel",
      "_view_count": null,
      "_view_module": "@jupyter-widgets/controls",
      "_view_module_version": "1.5.0",
      "_view_name": "HTMLView",
      "description": "",
      "description_tooltip": null,
      "layout": "IPY_MODEL_e60835f96a214035bcd5bc7b4261b7a9",
      "placeholder": "​",
      "style": "IPY_MODEL_c5062bea56404548b529bdfdbd1c6db0",
      "value": " 440M/440M [00:08&lt;00:00, 53.1MB/s]"
     }
    },
    "24b59470045e40d58df00e6cdd81729f": {
     "model_module": "@jupyter-widgets/base",
     "model_name": "LayoutModel",
     "state": {
      "_model_module": "@jupyter-widgets/base",
      "_model_module_version": "1.2.0",
      "_model_name": "LayoutModel",
      "_view_count": null,
      "_view_module": "@jupyter-widgets/base",
      "_view_module_version": "1.2.0",
      "_view_name": "LayoutView",
      "align_content": null,
      "align_items": null,
      "align_self": null,
      "border": null,
      "bottom": null,
      "display": null,
      "flex": null,
      "flex_flow": null,
      "grid_area": null,
      "grid_auto_columns": null,
      "grid_auto_flow": null,
      "grid_auto_rows": null,
      "grid_column": null,
      "grid_gap": null,
      "grid_row": null,
      "grid_template_areas": null,
      "grid_template_columns": null,
      "grid_template_rows": null,
      "height": null,
      "justify_content": null,
      "justify_items": null,
      "left": null,
      "margin": null,
      "max_height": null,
      "max_width": null,
      "min_height": null,
      "min_width": null,
      "object_fit": null,
      "object_position": null,
      "order": null,
      "overflow": null,
      "overflow_x": null,
      "overflow_y": null,
      "padding": null,
      "right": null,
      "top": null,
      "visibility": null,
      "width": null
     }
    },
    "258a1fdc98144856a36370074f539540": {
     "model_module": "@jupyter-widgets/controls",
     "model_name": "DescriptionStyleModel",
     "state": {
      "_model_module": "@jupyter-widgets/controls",
      "_model_module_version": "1.5.0",
      "_model_name": "DescriptionStyleModel",
      "_view_count": null,
      "_view_module": "@jupyter-widgets/base",
      "_view_module_version": "1.2.0",
      "_view_name": "StyleView",
      "description_width": ""
     }
    },
    "26aee0529ffa43eb8830f6aa47d9712c": {
     "model_module": "@jupyter-widgets/controls",
     "model_name": "HTMLModel",
     "state": {
      "_dom_classes": [],
      "_model_module": "@jupyter-widgets/controls",
      "_model_module_version": "1.5.0",
      "_model_name": "HTMLModel",
      "_view_count": null,
      "_view_module": "@jupyter-widgets/controls",
      "_view_module_version": "1.5.0",
      "_view_name": "HTMLView",
      "description": "",
      "description_tooltip": null,
      "layout": "IPY_MODEL_eb2db53dcd044c889016b29169129e57",
      "placeholder": "​",
      "style": "IPY_MODEL_6c182e4af63b48a3891a616c2cdd9834",
      "value": "Downloading: 100%"
     }
    },
    "27a4c2c9e7de42c7a7291c0c13f1f46b": {
     "model_module": "@jupyter-widgets/base",
     "model_name": "LayoutModel",
     "state": {
      "_model_module": "@jupyter-widgets/base",
      "_model_module_version": "1.2.0",
      "_model_name": "LayoutModel",
      "_view_count": null,
      "_view_module": "@jupyter-widgets/base",
      "_view_module_version": "1.2.0",
      "_view_name": "LayoutView",
      "align_content": null,
      "align_items": null,
      "align_self": null,
      "border": null,
      "bottom": null,
      "display": null,
      "flex": null,
      "flex_flow": null,
      "grid_area": null,
      "grid_auto_columns": null,
      "grid_auto_flow": null,
      "grid_auto_rows": null,
      "grid_column": null,
      "grid_gap": null,
      "grid_row": null,
      "grid_template_areas": null,
      "grid_template_columns": null,
      "grid_template_rows": null,
      "height": null,
      "justify_content": null,
      "justify_items": null,
      "left": null,
      "margin": null,
      "max_height": null,
      "max_width": null,
      "min_height": null,
      "min_width": null,
      "object_fit": null,
      "object_position": null,
      "order": null,
      "overflow": null,
      "overflow_x": null,
      "overflow_y": null,
      "padding": null,
      "right": null,
      "top": null,
      "visibility": null,
      "width": null
     }
    },
    "29d02814b983450a993c893e10b9cf2e": {
     "model_module": "@jupyter-widgets/controls",
     "model_name": "DescriptionStyleModel",
     "state": {
      "_model_module": "@jupyter-widgets/controls",
      "_model_module_version": "1.5.0",
      "_model_name": "DescriptionStyleModel",
      "_view_count": null,
      "_view_module": "@jupyter-widgets/base",
      "_view_module_version": "1.2.0",
      "_view_name": "StyleView",
      "description_width": ""
     }
    },
    "2be0b930c90a4e72b8f2b3c5beebd203": {
     "model_module": "@jupyter-widgets/base",
     "model_name": "LayoutModel",
     "state": {
      "_model_module": "@jupyter-widgets/base",
      "_model_module_version": "1.2.0",
      "_model_name": "LayoutModel",
      "_view_count": null,
      "_view_module": "@jupyter-widgets/base",
      "_view_module_version": "1.2.0",
      "_view_name": "LayoutView",
      "align_content": null,
      "align_items": null,
      "align_self": null,
      "border": null,
      "bottom": null,
      "display": null,
      "flex": null,
      "flex_flow": null,
      "grid_area": null,
      "grid_auto_columns": null,
      "grid_auto_flow": null,
      "grid_auto_rows": null,
      "grid_column": null,
      "grid_gap": null,
      "grid_row": null,
      "grid_template_areas": null,
      "grid_template_columns": null,
      "grid_template_rows": null,
      "height": null,
      "justify_content": null,
      "justify_items": null,
      "left": null,
      "margin": null,
      "max_height": null,
      "max_width": null,
      "min_height": null,
      "min_width": null,
      "object_fit": null,
      "object_position": null,
      "order": null,
      "overflow": null,
      "overflow_x": null,
      "overflow_y": null,
      "padding": null,
      "right": null,
      "top": null,
      "visibility": null,
      "width": null
     }
    },
    "367df59a5e284d69a98f067d749724cf": {
     "model_module": "@jupyter-widgets/base",
     "model_name": "LayoutModel",
     "state": {
      "_model_module": "@jupyter-widgets/base",
      "_model_module_version": "1.2.0",
      "_model_name": "LayoutModel",
      "_view_count": null,
      "_view_module": "@jupyter-widgets/base",
      "_view_module_version": "1.2.0",
      "_view_name": "LayoutView",
      "align_content": null,
      "align_items": null,
      "align_self": null,
      "border": null,
      "bottom": null,
      "display": null,
      "flex": null,
      "flex_flow": null,
      "grid_area": null,
      "grid_auto_columns": null,
      "grid_auto_flow": null,
      "grid_auto_rows": null,
      "grid_column": null,
      "grid_gap": null,
      "grid_row": null,
      "grid_template_areas": null,
      "grid_template_columns": null,
      "grid_template_rows": null,
      "height": null,
      "justify_content": null,
      "justify_items": null,
      "left": null,
      "margin": null,
      "max_height": null,
      "max_width": null,
      "min_height": null,
      "min_width": null,
      "object_fit": null,
      "object_position": null,
      "order": null,
      "overflow": null,
      "overflow_x": null,
      "overflow_y": null,
      "padding": null,
      "right": null,
      "top": null,
      "visibility": null,
      "width": null
     }
    },
    "3f8272d252934fd99d089bf5c5cd3584": {
     "model_module": "@jupyter-widgets/base",
     "model_name": "LayoutModel",
     "state": {
      "_model_module": "@jupyter-widgets/base",
      "_model_module_version": "1.2.0",
      "_model_name": "LayoutModel",
      "_view_count": null,
      "_view_module": "@jupyter-widgets/base",
      "_view_module_version": "1.2.0",
      "_view_name": "LayoutView",
      "align_content": null,
      "align_items": null,
      "align_self": null,
      "border": null,
      "bottom": null,
      "display": null,
      "flex": null,
      "flex_flow": null,
      "grid_area": null,
      "grid_auto_columns": null,
      "grid_auto_flow": null,
      "grid_auto_rows": null,
      "grid_column": null,
      "grid_gap": null,
      "grid_row": null,
      "grid_template_areas": null,
      "grid_template_columns": null,
      "grid_template_rows": null,
      "height": null,
      "justify_content": null,
      "justify_items": null,
      "left": null,
      "margin": null,
      "max_height": null,
      "max_width": null,
      "min_height": null,
      "min_width": null,
      "object_fit": null,
      "object_position": null,
      "order": null,
      "overflow": null,
      "overflow_x": null,
      "overflow_y": null,
      "padding": null,
      "right": null,
      "top": null,
      "visibility": null,
      "width": null
     }
    },
    "4111491e7ea54d239a2f7fb0d8bccb76": {
     "model_module": "@jupyter-widgets/controls",
     "model_name": "HTMLModel",
     "state": {
      "_dom_classes": [],
      "_model_module": "@jupyter-widgets/controls",
      "_model_module_version": "1.5.0",
      "_model_name": "HTMLModel",
      "_view_count": null,
      "_view_module": "@jupyter-widgets/controls",
      "_view_module_version": "1.5.0",
      "_view_name": "HTMLView",
      "description": "",
      "description_tooltip": null,
      "layout": "IPY_MODEL_2be0b930c90a4e72b8f2b3c5beebd203",
      "placeholder": "​",
      "style": "IPY_MODEL_d60bd6de26b54d899384fd27915c7934",
      "value": "Downloading: 100%"
     }
    },
    "4dfc579318d9497d925c19bb4746a34f": {
     "model_module": "@jupyter-widgets/controls",
     "model_name": "HTMLModel",
     "state": {
      "_dom_classes": [],
      "_model_module": "@jupyter-widgets/controls",
      "_model_module_version": "1.5.0",
      "_model_name": "HTMLModel",
      "_view_count": null,
      "_view_module": "@jupyter-widgets/controls",
      "_view_module_version": "1.5.0",
      "_view_name": "HTMLView",
      "description": "",
      "description_tooltip": null,
      "layout": "IPY_MODEL_588a6e65d9064c3c8137f440ccf30663",
      "placeholder": "​",
      "style": "IPY_MODEL_71c96f1d120e427294e4df8f57956e0c",
      "value": " 570/570 [00:00&lt;00:00, 14.3kB/s]"
     }
    },
    "52404d80088b405d9c9ecfd3bce1ccab": {
     "model_module": "@jupyter-widgets/controls",
     "model_name": "FloatProgressModel",
     "state": {
      "_dom_classes": [],
      "_model_module": "@jupyter-widgets/controls",
      "_model_module_version": "1.5.0",
      "_model_name": "FloatProgressModel",
      "_view_count": null,
      "_view_module": "@jupyter-widgets/controls",
      "_view_module_version": "1.5.0",
      "_view_name": "ProgressView",
      "bar_style": "success",
      "description": "",
      "description_tooltip": null,
      "layout": "IPY_MODEL_1a338758556d422fba3dc3624394bfbd",
      "max": 231508,
      "min": 0,
      "orientation": "horizontal",
      "style": "IPY_MODEL_8a0755a09cf84cfaa0753a7aa8453933",
      "value": 231508
     }
    },
    "588a6e65d9064c3c8137f440ccf30663": {
     "model_module": "@jupyter-widgets/base",
     "model_name": "LayoutModel",
     "state": {
      "_model_module": "@jupyter-widgets/base",
      "_model_module_version": "1.2.0",
      "_model_name": "LayoutModel",
      "_view_count": null,
      "_view_module": "@jupyter-widgets/base",
      "_view_module_version": "1.2.0",
      "_view_name": "LayoutView",
      "align_content": null,
      "align_items": null,
      "align_self": null,
      "border": null,
      "bottom": null,
      "display": null,
      "flex": null,
      "flex_flow": null,
      "grid_area": null,
      "grid_auto_columns": null,
      "grid_auto_flow": null,
      "grid_auto_rows": null,
      "grid_column": null,
      "grid_gap": null,
      "grid_row": null,
      "grid_template_areas": null,
      "grid_template_columns": null,
      "grid_template_rows": null,
      "height": null,
      "justify_content": null,
      "justify_items": null,
      "left": null,
      "margin": null,
      "max_height": null,
      "max_width": null,
      "min_height": null,
      "min_width": null,
      "object_fit": null,
      "object_position": null,
      "order": null,
      "overflow": null,
      "overflow_x": null,
      "overflow_y": null,
      "padding": null,
      "right": null,
      "top": null,
      "visibility": null,
      "width": null
     }
    },
    "6570c39ec0174a55977843f2663c8f31": {
     "model_module": "@jupyter-widgets/base",
     "model_name": "LayoutModel",
     "state": {
      "_model_module": "@jupyter-widgets/base",
      "_model_module_version": "1.2.0",
      "_model_name": "LayoutModel",
      "_view_count": null,
      "_view_module": "@jupyter-widgets/base",
      "_view_module_version": "1.2.0",
      "_view_name": "LayoutView",
      "align_content": null,
      "align_items": null,
      "align_self": null,
      "border": null,
      "bottom": null,
      "display": null,
      "flex": null,
      "flex_flow": null,
      "grid_area": null,
      "grid_auto_columns": null,
      "grid_auto_flow": null,
      "grid_auto_rows": null,
      "grid_column": null,
      "grid_gap": null,
      "grid_row": null,
      "grid_template_areas": null,
      "grid_template_columns": null,
      "grid_template_rows": null,
      "height": null,
      "justify_content": null,
      "justify_items": null,
      "left": null,
      "margin": null,
      "max_height": null,
      "max_width": null,
      "min_height": null,
      "min_width": null,
      "object_fit": null,
      "object_position": null,
      "order": null,
      "overflow": null,
      "overflow_x": null,
      "overflow_y": null,
      "padding": null,
      "right": null,
      "top": null,
      "visibility": null,
      "width": null
     }
    },
    "697f3c18c0ab48ed9e07ea42f1b1ffc4": {
     "model_module": "@jupyter-widgets/controls",
     "model_name": "FloatProgressModel",
     "state": {
      "_dom_classes": [],
      "_model_module": "@jupyter-widgets/controls",
      "_model_module_version": "1.5.0",
      "_model_name": "FloatProgressModel",
      "_view_count": null,
      "_view_module": "@jupyter-widgets/controls",
      "_view_module_version": "1.5.0",
      "_view_name": "ProgressView",
      "bar_style": "success",
      "description": "",
      "description_tooltip": null,
      "layout": "IPY_MODEL_09db42a8fcbc4807bcb088971b425f91",
      "max": 570,
      "min": 0,
      "orientation": "horizontal",
      "style": "IPY_MODEL_beb9866ed56f460a9882261aee693b5c",
      "value": 570
     }
    },
    "6adeb0e45f214c1296f0c393358943e9": {
     "model_module": "@jupyter-widgets/controls",
     "model_name": "HTMLModel",
     "state": {
      "_dom_classes": [],
      "_model_module": "@jupyter-widgets/controls",
      "_model_module_version": "1.5.0",
      "_model_name": "HTMLModel",
      "_view_count": null,
      "_view_module": "@jupyter-widgets/controls",
      "_view_module_version": "1.5.0",
      "_view_name": "HTMLView",
      "description": "",
      "description_tooltip": null,
      "layout": "IPY_MODEL_24b59470045e40d58df00e6cdd81729f",
      "placeholder": "​",
      "style": "IPY_MODEL_fd3ff679292e42358435bb8f6bc623be",
      "value": "Processing 2: 100%"
     }
    },
    "6c182e4af63b48a3891a616c2cdd9834": {
     "model_module": "@jupyter-widgets/controls",
     "model_name": "DescriptionStyleModel",
     "state": {
      "_model_module": "@jupyter-widgets/controls",
      "_model_module_version": "1.5.0",
      "_model_name": "DescriptionStyleModel",
      "_view_count": null,
      "_view_module": "@jupyter-widgets/base",
      "_view_module_version": "1.2.0",
      "_view_name": "StyleView",
      "description_width": ""
     }
    },
    "6c986260d0a74d0b8382b6fe113ff11a": {
     "model_module": "@jupyter-widgets/controls",
     "model_name": "FloatProgressModel",
     "state": {
      "_dom_classes": [],
      "_model_module": "@jupyter-widgets/controls",
      "_model_module_version": "1.5.0",
      "_model_name": "FloatProgressModel",
      "_view_count": null,
      "_view_module": "@jupyter-widgets/controls",
      "_view_module_version": "1.5.0",
      "_view_name": "ProgressView",
      "bar_style": "success",
      "description": "",
      "description_tooltip": null,
      "layout": "IPY_MODEL_27a4c2c9e7de42c7a7291c0c13f1f46b",
      "max": 466062,
      "min": 0,
      "orientation": "horizontal",
      "style": "IPY_MODEL_c87a025dc6f04de3a4ef3ea222881c77",
      "value": 466062
     }
    },
    "71c96f1d120e427294e4df8f57956e0c": {
     "model_module": "@jupyter-widgets/controls",
     "model_name": "DescriptionStyleModel",
     "state": {
      "_model_module": "@jupyter-widgets/controls",
      "_model_module_version": "1.5.0",
      "_model_name": "DescriptionStyleModel",
      "_view_count": null,
      "_view_module": "@jupyter-widgets/base",
      "_view_module_version": "1.2.0",
      "_view_name": "StyleView",
      "description_width": ""
     }
    },
    "74ef11b9bb4f4e2fbb1886850916f87c": {
     "model_module": "@jupyter-widgets/base",
     "model_name": "LayoutModel",
     "state": {
      "_model_module": "@jupyter-widgets/base",
      "_model_module_version": "1.2.0",
      "_model_name": "LayoutModel",
      "_view_count": null,
      "_view_module": "@jupyter-widgets/base",
      "_view_module_version": "1.2.0",
      "_view_name": "LayoutView",
      "align_content": null,
      "align_items": null,
      "align_self": null,
      "border": null,
      "bottom": null,
      "display": null,
      "flex": null,
      "flex_flow": null,
      "grid_area": null,
      "grid_auto_columns": null,
      "grid_auto_flow": null,
      "grid_auto_rows": null,
      "grid_column": null,
      "grid_gap": null,
      "grid_row": null,
      "grid_template_areas": null,
      "grid_template_columns": null,
      "grid_template_rows": null,
      "height": null,
      "justify_content": null,
      "justify_items": null,
      "left": null,
      "margin": null,
      "max_height": null,
      "max_width": null,
      "min_height": null,
      "min_width": null,
      "object_fit": null,
      "object_position": null,
      "order": null,
      "overflow": null,
      "overflow_x": null,
      "overflow_y": null,
      "padding": null,
      "right": null,
      "top": null,
      "visibility": null,
      "width": null
     }
    },
    "8018d7c6884c4cdba71373fd31d79fd2": {
     "model_module": "@jupyter-widgets/controls",
     "model_name": "DescriptionStyleModel",
     "state": {
      "_model_module": "@jupyter-widgets/controls",
      "_model_module_version": "1.5.0",
      "_model_name": "DescriptionStyleModel",
      "_view_count": null,
      "_view_module": "@jupyter-widgets/base",
      "_view_module_version": "1.2.0",
      "_view_name": "StyleView",
      "description_width": ""
     }
    },
    "81a6b3f341ef45cc850e1f8a8593ee8f": {
     "model_module": "@jupyter-widgets/controls",
     "model_name": "DescriptionStyleModel",
     "state": {
      "_model_module": "@jupyter-widgets/controls",
      "_model_module_version": "1.5.0",
      "_model_name": "DescriptionStyleModel",
      "_view_count": null,
      "_view_module": "@jupyter-widgets/base",
      "_view_module_version": "1.2.0",
      "_view_name": "StyleView",
      "description_width": ""
     }
    },
    "854ae8b081044aab89adee5155786119": {
     "model_module": "@jupyter-widgets/base",
     "model_name": "LayoutModel",
     "state": {
      "_model_module": "@jupyter-widgets/base",
      "_model_module_version": "1.2.0",
      "_model_name": "LayoutModel",
      "_view_count": null,
      "_view_module": "@jupyter-widgets/base",
      "_view_module_version": "1.2.0",
      "_view_name": "LayoutView",
      "align_content": null,
      "align_items": null,
      "align_self": null,
      "border": null,
      "bottom": null,
      "display": null,
      "flex": null,
      "flex_flow": null,
      "grid_area": null,
      "grid_auto_columns": null,
      "grid_auto_flow": null,
      "grid_auto_rows": null,
      "grid_column": null,
      "grid_gap": null,
      "grid_row": null,
      "grid_template_areas": null,
      "grid_template_columns": null,
      "grid_template_rows": null,
      "height": null,
      "justify_content": null,
      "justify_items": null,
      "left": null,
      "margin": null,
      "max_height": null,
      "max_width": null,
      "min_height": null,
      "min_width": null,
      "object_fit": null,
      "object_position": null,
      "order": null,
      "overflow": null,
      "overflow_x": null,
      "overflow_y": null,
      "padding": null,
      "right": null,
      "top": null,
      "visibility": null,
      "width": null
     }
    },
    "866075ea7111488ea68184a0d032b2db": {
     "model_module": "@jupyter-widgets/base",
     "model_name": "LayoutModel",
     "state": {
      "_model_module": "@jupyter-widgets/base",
      "_model_module_version": "1.2.0",
      "_model_name": "LayoutModel",
      "_view_count": null,
      "_view_module": "@jupyter-widgets/base",
      "_view_module_version": "1.2.0",
      "_view_name": "LayoutView",
      "align_content": null,
      "align_items": null,
      "align_self": null,
      "border": null,
      "bottom": null,
      "display": null,
      "flex": null,
      "flex_flow": null,
      "grid_area": null,
      "grid_auto_columns": null,
      "grid_auto_flow": null,
      "grid_auto_rows": null,
      "grid_column": null,
      "grid_gap": null,
      "grid_row": null,
      "grid_template_areas": null,
      "grid_template_columns": null,
      "grid_template_rows": null,
      "height": null,
      "justify_content": null,
      "justify_items": null,
      "left": null,
      "margin": null,
      "max_height": null,
      "max_width": null,
      "min_height": null,
      "min_width": null,
      "object_fit": null,
      "object_position": null,
      "order": null,
      "overflow": null,
      "overflow_x": null,
      "overflow_y": null,
      "padding": null,
      "right": null,
      "top": null,
      "visibility": null,
      "width": null
     }
    },
    "86e9fb83e3fa44c187bce32c5614283b": {
     "model_module": "@jupyter-widgets/base",
     "model_name": "LayoutModel",
     "state": {
      "_model_module": "@jupyter-widgets/base",
      "_model_module_version": "1.2.0",
      "_model_name": "LayoutModel",
      "_view_count": null,
      "_view_module": "@jupyter-widgets/base",
      "_view_module_version": "1.2.0",
      "_view_name": "LayoutView",
      "align_content": null,
      "align_items": null,
      "align_self": null,
      "border": null,
      "bottom": null,
      "display": null,
      "flex": null,
      "flex_flow": null,
      "grid_area": null,
      "grid_auto_columns": null,
      "grid_auto_flow": null,
      "grid_auto_rows": null,
      "grid_column": null,
      "grid_gap": null,
      "grid_row": null,
      "grid_template_areas": null,
      "grid_template_columns": null,
      "grid_template_rows": null,
      "height": null,
      "justify_content": null,
      "justify_items": null,
      "left": null,
      "margin": null,
      "max_height": null,
      "max_width": null,
      "min_height": null,
      "min_width": null,
      "object_fit": null,
      "object_position": null,
      "order": null,
      "overflow": null,
      "overflow_x": null,
      "overflow_y": null,
      "padding": null,
      "right": null,
      "top": null,
      "visibility": null,
      "width": null
     }
    },
    "88537c8f16f34abf9eb1abf427e9c41c": {
     "model_module": "@jupyter-widgets/controls",
     "model_name": "ProgressStyleModel",
     "state": {
      "_model_module": "@jupyter-widgets/controls",
      "_model_module_version": "1.5.0",
      "_model_name": "ProgressStyleModel",
      "_view_count": null,
      "_view_module": "@jupyter-widgets/base",
      "_view_module_version": "1.2.0",
      "_view_name": "StyleView",
      "bar_color": null,
      "description_width": ""
     }
    },
    "8a0755a09cf84cfaa0753a7aa8453933": {
     "model_module": "@jupyter-widgets/controls",
     "model_name": "ProgressStyleModel",
     "state": {
      "_model_module": "@jupyter-widgets/controls",
      "_model_module_version": "1.5.0",
      "_model_name": "ProgressStyleModel",
      "_view_count": null,
      "_view_module": "@jupyter-widgets/base",
      "_view_module_version": "1.2.0",
      "_view_name": "StyleView",
      "bar_color": null,
      "description_width": ""
     }
    },
    "94df14e314df420f9b29c32063f850ee": {
     "model_module": "@jupyter-widgets/base",
     "model_name": "LayoutModel",
     "state": {
      "_model_module": "@jupyter-widgets/base",
      "_model_module_version": "1.2.0",
      "_model_name": "LayoutModel",
      "_view_count": null,
      "_view_module": "@jupyter-widgets/base",
      "_view_module_version": "1.2.0",
      "_view_name": "LayoutView",
      "align_content": null,
      "align_items": null,
      "align_self": null,
      "border": null,
      "bottom": null,
      "display": null,
      "flex": null,
      "flex_flow": null,
      "grid_area": null,
      "grid_auto_columns": null,
      "grid_auto_flow": null,
      "grid_auto_rows": null,
      "grid_column": null,
      "grid_gap": null,
      "grid_row": null,
      "grid_template_areas": null,
      "grid_template_columns": null,
      "grid_template_rows": null,
      "height": null,
      "justify_content": null,
      "justify_items": null,
      "left": null,
      "margin": null,
      "max_height": null,
      "max_width": null,
      "min_height": null,
      "min_width": null,
      "object_fit": null,
      "object_position": null,
      "order": null,
      "overflow": null,
      "overflow_x": null,
      "overflow_y": null,
      "padding": null,
      "right": null,
      "top": null,
      "visibility": null,
      "width": null
     }
    },
    "9d9fb75667284944bd7e81665170f5d1": {
     "model_module": "@jupyter-widgets/controls",
     "model_name": "HBoxModel",
     "state": {
      "_dom_classes": [],
      "_model_module": "@jupyter-widgets/controls",
      "_model_module_version": "1.5.0",
      "_model_name": "HBoxModel",
      "_view_count": null,
      "_view_module": "@jupyter-widgets/controls",
      "_view_module_version": "1.5.0",
      "_view_name": "HBoxView",
      "box_style": "",
      "children": [
       "IPY_MODEL_26aee0529ffa43eb8830f6aa47d9712c",
       "IPY_MODEL_0d2df2abf1f74508aecfb514aae9e211",
       "IPY_MODEL_2176db793cc64b5b9bdd48b6656f34cc"
      ],
      "layout": "IPY_MODEL_e2c0b6f4bf5445c581250bff9d26e984"
     }
    },
    "a2382bf9437e42b38952422b38b7a0e9": {
     "model_module": "@jupyter-widgets/controls",
     "model_name": "FloatProgressModel",
     "state": {
      "_dom_classes": [],
      "_model_module": "@jupyter-widgets/controls",
      "_model_module_version": "1.5.0",
      "_model_name": "FloatProgressModel",
      "_view_count": null,
      "_view_module": "@jupyter-widgets/controls",
      "_view_module_version": "1.5.0",
      "_view_name": "ProgressView",
      "bar_style": "success",
      "description": "",
      "description_tooltip": null,
      "layout": "IPY_MODEL_ec68d3c88ec64f748589f55f3d313df6",
      "max": 1005,
      "min": 0,
      "orientation": "horizontal",
      "style": "IPY_MODEL_d4f1d8edc59e4400a55069ee4f1ee63b",
      "value": 1005
     }
    },
    "aae9727c44054543a98930da5ee18736": {
     "model_module": "@jupyter-widgets/base",
     "model_name": "LayoutModel",
     "state": {
      "_model_module": "@jupyter-widgets/base",
      "_model_module_version": "1.2.0",
      "_model_name": "LayoutModel",
      "_view_count": null,
      "_view_module": "@jupyter-widgets/base",
      "_view_module_version": "1.2.0",
      "_view_name": "LayoutView",
      "align_content": null,
      "align_items": null,
      "align_self": null,
      "border": null,
      "bottom": null,
      "display": null,
      "flex": null,
      "flex_flow": null,
      "grid_area": null,
      "grid_auto_columns": null,
      "grid_auto_flow": null,
      "grid_auto_rows": null,
      "grid_column": null,
      "grid_gap": null,
      "grid_row": null,
      "grid_template_areas": null,
      "grid_template_columns": null,
      "grid_template_rows": null,
      "height": null,
      "justify_content": null,
      "justify_items": null,
      "left": null,
      "margin": null,
      "max_height": null,
      "max_width": null,
      "min_height": null,
      "min_width": null,
      "object_fit": null,
      "object_position": null,
      "order": null,
      "overflow": null,
      "overflow_x": null,
      "overflow_y": null,
      "padding": null,
      "right": null,
      "top": null,
      "visibility": null,
      "width": null
     }
    },
    "b0eb2726c4e746989f7b974222cff9b8": {
     "model_module": "@jupyter-widgets/controls",
     "model_name": "HBoxModel",
     "state": {
      "_dom_classes": [],
      "_model_module": "@jupyter-widgets/controls",
      "_model_module_version": "1.5.0",
      "_model_name": "HBoxModel",
      "_view_count": null,
      "_view_module": "@jupyter-widgets/controls",
      "_view_module_version": "1.5.0",
      "_view_name": "HBoxView",
      "box_style": "",
      "children": [
       "IPY_MODEL_0a1a03982ef64b29ac0e7a5c1cf75c5f",
       "IPY_MODEL_6c986260d0a74d0b8382b6fe113ff11a",
       "IPY_MODEL_bead5330cf064a70a1a556b5ba5d6b6b"
      ],
      "layout": "IPY_MODEL_d658735cbc084155bbd440f5bb97ca56"
     }
    },
    "bead5330cf064a70a1a556b5ba5d6b6b": {
     "model_module": "@jupyter-widgets/controls",
     "model_name": "HTMLModel",
     "state": {
      "_dom_classes": [],
      "_model_module": "@jupyter-widgets/controls",
      "_model_module_version": "1.5.0",
      "_model_name": "HTMLModel",
      "_view_count": null,
      "_view_module": "@jupyter-widgets/controls",
      "_view_module_version": "1.5.0",
      "_view_name": "HTMLView",
      "description": "",
      "description_tooltip": null,
      "layout": "IPY_MODEL_3f8272d252934fd99d089bf5c5cd3584",
      "placeholder": "​",
      "style": "IPY_MODEL_e93bf00104124dfcb3588eba545bad9c",
      "value": " 466k/466k [00:00&lt;00:00, 8.18MB/s]"
     }
    },
    "beb9866ed56f460a9882261aee693b5c": {
     "model_module": "@jupyter-widgets/controls",
     "model_name": "ProgressStyleModel",
     "state": {
      "_model_module": "@jupyter-widgets/controls",
      "_model_module_version": "1.5.0",
      "_model_name": "ProgressStyleModel",
      "_view_count": null,
      "_view_module": "@jupyter-widgets/base",
      "_view_module_version": "1.2.0",
      "_view_name": "StyleView",
      "bar_color": null,
      "description_width": ""
     }
    },
    "c2356755ec90431ea992918c2044cabf": {
     "model_module": "@jupyter-widgets/controls",
     "model_name": "HTMLModel",
     "state": {
      "_dom_classes": [],
      "_model_module": "@jupyter-widgets/controls",
      "_model_module_version": "1.5.0",
      "_model_name": "HTMLModel",
      "_view_count": null,
      "_view_module": "@jupyter-widgets/controls",
      "_view_module_version": "1.5.0",
      "_view_name": "HTMLView",
      "description": "",
      "description_tooltip": null,
      "layout": "IPY_MODEL_74ef11b9bb4f4e2fbb1886850916f87c",
      "placeholder": "​",
      "style": "IPY_MODEL_81a6b3f341ef45cc850e1f8a8593ee8f",
      "value": " 232k/232k [00:00&lt;00:00, 4.07MB/s]"
     }
    },
    "c5062bea56404548b529bdfdbd1c6db0": {
     "model_module": "@jupyter-widgets/controls",
     "model_name": "DescriptionStyleModel",
     "state": {
      "_model_module": "@jupyter-widgets/controls",
      "_model_module_version": "1.5.0",
      "_model_name": "DescriptionStyleModel",
      "_view_count": null,
      "_view_module": "@jupyter-widgets/base",
      "_view_module_version": "1.2.0",
      "_view_name": "StyleView",
      "description_width": ""
     }
    },
    "c56fb8b9bead46b89e01d55245409c62": {
     "model_module": "@jupyter-widgets/controls",
     "model_name": "HTMLModel",
     "state": {
      "_dom_classes": [],
      "_model_module": "@jupyter-widgets/controls",
      "_model_module_version": "1.5.0",
      "_model_name": "HTMLModel",
      "_view_count": null,
      "_view_module": "@jupyter-widgets/controls",
      "_view_module_version": "1.5.0",
      "_view_name": "HTMLView",
      "description": "",
      "description_tooltip": null,
      "layout": "IPY_MODEL_0f71866847524f608ee1cd8827185242",
      "placeholder": "​",
      "style": "IPY_MODEL_21705045e3844a58b69bdf9c3f717a85",
      "value": " 1005/1005 [04:43&lt;00:00,  4.74it/s, loss=0.178]"
     }
    },
    "c87a025dc6f04de3a4ef3ea222881c77": {
     "model_module": "@jupyter-widgets/controls",
     "model_name": "ProgressStyleModel",
     "state": {
      "_model_module": "@jupyter-widgets/controls",
      "_model_module_version": "1.5.0",
      "_model_name": "ProgressStyleModel",
      "_view_count": null,
      "_view_module": "@jupyter-widgets/base",
      "_view_module_version": "1.2.0",
      "_view_name": "StyleView",
      "bar_color": null,
      "description_width": ""
     }
    },
    "c8d98422aa0d4d7ba81a941c39f367ad": {
     "model_module": "@jupyter-widgets/controls",
     "model_name": "DescriptionStyleModel",
     "state": {
      "_model_module": "@jupyter-widgets/controls",
      "_model_module_version": "1.5.0",
      "_model_name": "DescriptionStyleModel",
      "_view_count": null,
      "_view_module": "@jupyter-widgets/base",
      "_view_module_version": "1.2.0",
      "_view_name": "StyleView",
      "description_width": ""
     }
    },
    "d4f1d8edc59e4400a55069ee4f1ee63b": {
     "model_module": "@jupyter-widgets/controls",
     "model_name": "ProgressStyleModel",
     "state": {
      "_model_module": "@jupyter-widgets/controls",
      "_model_module_version": "1.5.0",
      "_model_name": "ProgressStyleModel",
      "_view_count": null,
      "_view_module": "@jupyter-widgets/base",
      "_view_module_version": "1.2.0",
      "_view_name": "StyleView",
      "bar_color": null,
      "description_width": ""
     }
    },
    "d60bd6de26b54d899384fd27915c7934": {
     "model_module": "@jupyter-widgets/controls",
     "model_name": "DescriptionStyleModel",
     "state": {
      "_model_module": "@jupyter-widgets/controls",
      "_model_module_version": "1.5.0",
      "_model_name": "DescriptionStyleModel",
      "_view_count": null,
      "_view_module": "@jupyter-widgets/base",
      "_view_module_version": "1.2.0",
      "_view_name": "StyleView",
      "description_width": ""
     }
    },
    "d658735cbc084155bbd440f5bb97ca56": {
     "model_module": "@jupyter-widgets/base",
     "model_name": "LayoutModel",
     "state": {
      "_model_module": "@jupyter-widgets/base",
      "_model_module_version": "1.2.0",
      "_model_name": "LayoutModel",
      "_view_count": null,
      "_view_module": "@jupyter-widgets/base",
      "_view_module_version": "1.2.0",
      "_view_name": "LayoutView",
      "align_content": null,
      "align_items": null,
      "align_self": null,
      "border": null,
      "bottom": null,
      "display": null,
      "flex": null,
      "flex_flow": null,
      "grid_area": null,
      "grid_auto_columns": null,
      "grid_auto_flow": null,
      "grid_auto_rows": null,
      "grid_column": null,
      "grid_gap": null,
      "grid_row": null,
      "grid_template_areas": null,
      "grid_template_columns": null,
      "grid_template_rows": null,
      "height": null,
      "justify_content": null,
      "justify_items": null,
      "left": null,
      "margin": null,
      "max_height": null,
      "max_width": null,
      "min_height": null,
      "min_width": null,
      "object_fit": null,
      "object_position": null,
      "order": null,
      "overflow": null,
      "overflow_x": null,
      "overflow_y": null,
      "padding": null,
      "right": null,
      "top": null,
      "visibility": null,
      "width": null
     }
    },
    "d7a6c11ab5774affa89ffbc0d5aad1af": {
     "model_module": "@jupyter-widgets/controls",
     "model_name": "HTMLModel",
     "state": {
      "_dom_classes": [],
      "_model_module": "@jupyter-widgets/controls",
      "_model_module_version": "1.5.0",
      "_model_name": "HTMLModel",
      "_view_count": null,
      "_view_module": "@jupyter-widgets/controls",
      "_view_module_version": "1.5.0",
      "_view_name": "HTMLView",
      "description": "",
      "description_tooltip": null,
      "layout": "IPY_MODEL_94df14e314df420f9b29c32063f850ee",
      "placeholder": "​",
      "style": "IPY_MODEL_c8d98422aa0d4d7ba81a941c39f367ad",
      "value": "Downloading: 100%"
     }
    },
    "df31ae3330004e8183db4f0c6e0a43d2": {
     "model_module": "@jupyter-widgets/base",
     "model_name": "LayoutModel",
     "state": {
      "_model_module": "@jupyter-widgets/base",
      "_model_module_version": "1.2.0",
      "_model_name": "LayoutModel",
      "_view_count": null,
      "_view_module": "@jupyter-widgets/base",
      "_view_module_version": "1.2.0",
      "_view_name": "LayoutView",
      "align_content": null,
      "align_items": null,
      "align_self": null,
      "border": null,
      "bottom": null,
      "display": null,
      "flex": null,
      "flex_flow": null,
      "grid_area": null,
      "grid_auto_columns": null,
      "grid_auto_flow": null,
      "grid_auto_rows": null,
      "grid_column": null,
      "grid_gap": null,
      "grid_row": null,
      "grid_template_areas": null,
      "grid_template_columns": null,
      "grid_template_rows": null,
      "height": null,
      "justify_content": null,
      "justify_items": null,
      "left": null,
      "margin": null,
      "max_height": null,
      "max_width": null,
      "min_height": null,
      "min_width": null,
      "object_fit": null,
      "object_position": null,
      "order": null,
      "overflow": null,
      "overflow_x": null,
      "overflow_y": null,
      "padding": null,
      "right": null,
      "top": null,
      "visibility": null,
      "width": null
     }
    },
    "e19ad532ee27473ba66a7ea4d8765cb7": {
     "model_module": "@jupyter-widgets/controls",
     "model_name": "HTMLModel",
     "state": {
      "_dom_classes": [],
      "_model_module": "@jupyter-widgets/controls",
      "_model_module_version": "1.5.0",
      "_model_name": "HTMLModel",
      "_view_count": null,
      "_view_module": "@jupyter-widgets/controls",
      "_view_module_version": "1.5.0",
      "_view_name": "HTMLView",
      "description": "",
      "description_tooltip": null,
      "layout": "IPY_MODEL_aae9727c44054543a98930da5ee18736",
      "placeholder": "​",
      "style": "IPY_MODEL_29d02814b983450a993c893e10b9cf2e",
      "value": "Downloading: 100%"
     }
    },
    "e2c0b6f4bf5445c581250bff9d26e984": {
     "model_module": "@jupyter-widgets/base",
     "model_name": "LayoutModel",
     "state": {
      "_model_module": "@jupyter-widgets/base",
      "_model_module_version": "1.2.0",
      "_model_name": "LayoutModel",
      "_view_count": null,
      "_view_module": "@jupyter-widgets/base",
      "_view_module_version": "1.2.0",
      "_view_name": "LayoutView",
      "align_content": null,
      "align_items": null,
      "align_self": null,
      "border": null,
      "bottom": null,
      "display": null,
      "flex": null,
      "flex_flow": null,
      "grid_area": null,
      "grid_auto_columns": null,
      "grid_auto_flow": null,
      "grid_auto_rows": null,
      "grid_column": null,
      "grid_gap": null,
      "grid_row": null,
      "grid_template_areas": null,
      "grid_template_columns": null,
      "grid_template_rows": null,
      "height": null,
      "justify_content": null,
      "justify_items": null,
      "left": null,
      "margin": null,
      "max_height": null,
      "max_width": null,
      "min_height": null,
      "min_width": null,
      "object_fit": null,
      "object_position": null,
      "order": null,
      "overflow": null,
      "overflow_x": null,
      "overflow_y": null,
      "padding": null,
      "right": null,
      "top": null,
      "visibility": null,
      "width": null
     }
    },
    "e60835f96a214035bcd5bc7b4261b7a9": {
     "model_module": "@jupyter-widgets/base",
     "model_name": "LayoutModel",
     "state": {
      "_model_module": "@jupyter-widgets/base",
      "_model_module_version": "1.2.0",
      "_model_name": "LayoutModel",
      "_view_count": null,
      "_view_module": "@jupyter-widgets/base",
      "_view_module_version": "1.2.0",
      "_view_name": "LayoutView",
      "align_content": null,
      "align_items": null,
      "align_self": null,
      "border": null,
      "bottom": null,
      "display": null,
      "flex": null,
      "flex_flow": null,
      "grid_area": null,
      "grid_auto_columns": null,
      "grid_auto_flow": null,
      "grid_auto_rows": null,
      "grid_column": null,
      "grid_gap": null,
      "grid_row": null,
      "grid_template_areas": null,
      "grid_template_columns": null,
      "grid_template_rows": null,
      "height": null,
      "justify_content": null,
      "justify_items": null,
      "left": null,
      "margin": null,
      "max_height": null,
      "max_width": null,
      "min_height": null,
      "min_width": null,
      "object_fit": null,
      "object_position": null,
      "order": null,
      "overflow": null,
      "overflow_x": null,
      "overflow_y": null,
      "padding": null,
      "right": null,
      "top": null,
      "visibility": null,
      "width": null
     }
    },
    "e7d0179e2b6d42d3b0599f799ec25309": {
     "model_module": "@jupyter-widgets/base",
     "model_name": "LayoutModel",
     "state": {
      "_model_module": "@jupyter-widgets/base",
      "_model_module_version": "1.2.0",
      "_model_name": "LayoutModel",
      "_view_count": null,
      "_view_module": "@jupyter-widgets/base",
      "_view_module_version": "1.2.0",
      "_view_name": "LayoutView",
      "align_content": null,
      "align_items": null,
      "align_self": null,
      "border": null,
      "bottom": null,
      "display": null,
      "flex": null,
      "flex_flow": null,
      "grid_area": null,
      "grid_auto_columns": null,
      "grid_auto_flow": null,
      "grid_auto_rows": null,
      "grid_column": null,
      "grid_gap": null,
      "grid_row": null,
      "grid_template_areas": null,
      "grid_template_columns": null,
      "grid_template_rows": null,
      "height": null,
      "justify_content": null,
      "justify_items": null,
      "left": null,
      "margin": null,
      "max_height": null,
      "max_width": null,
      "min_height": null,
      "min_width": null,
      "object_fit": null,
      "object_position": null,
      "order": null,
      "overflow": null,
      "overflow_x": null,
      "overflow_y": null,
      "padding": null,
      "right": null,
      "top": null,
      "visibility": null,
      "width": null
     }
    },
    "e87e54ad0ad04282ad6a36955af29308": {
     "model_module": "@jupyter-widgets/controls",
     "model_name": "ProgressStyleModel",
     "state": {
      "_model_module": "@jupyter-widgets/controls",
      "_model_module_version": "1.5.0",
      "_model_name": "ProgressStyleModel",
      "_view_count": null,
      "_view_module": "@jupyter-widgets/base",
      "_view_module_version": "1.2.0",
      "_view_name": "StyleView",
      "bar_color": null,
      "description_width": ""
     }
    },
    "e93bf00104124dfcb3588eba545bad9c": {
     "model_module": "@jupyter-widgets/controls",
     "model_name": "DescriptionStyleModel",
     "state": {
      "_model_module": "@jupyter-widgets/controls",
      "_model_module_version": "1.5.0",
      "_model_name": "DescriptionStyleModel",
      "_view_count": null,
      "_view_module": "@jupyter-widgets/base",
      "_view_module_version": "1.2.0",
      "_view_name": "StyleView",
      "description_width": ""
     }
    },
    "eb2db53dcd044c889016b29169129e57": {
     "model_module": "@jupyter-widgets/base",
     "model_name": "LayoutModel",
     "state": {
      "_model_module": "@jupyter-widgets/base",
      "_model_module_version": "1.2.0",
      "_model_name": "LayoutModel",
      "_view_count": null,
      "_view_module": "@jupyter-widgets/base",
      "_view_module_version": "1.2.0",
      "_view_name": "LayoutView",
      "align_content": null,
      "align_items": null,
      "align_self": null,
      "border": null,
      "bottom": null,
      "display": null,
      "flex": null,
      "flex_flow": null,
      "grid_area": null,
      "grid_auto_columns": null,
      "grid_auto_flow": null,
      "grid_auto_rows": null,
      "grid_column": null,
      "grid_gap": null,
      "grid_row": null,
      "grid_template_areas": null,
      "grid_template_columns": null,
      "grid_template_rows": null,
      "height": null,
      "justify_content": null,
      "justify_items": null,
      "left": null,
      "margin": null,
      "max_height": null,
      "max_width": null,
      "min_height": null,
      "min_width": null,
      "object_fit": null,
      "object_position": null,
      "order": null,
      "overflow": null,
      "overflow_x": null,
      "overflow_y": null,
      "padding": null,
      "right": null,
      "top": null,
      "visibility": null,
      "width": null
     }
    },
    "eba0c8339c754f75a8b6e1eeb5966fc1": {
     "model_module": "@jupyter-widgets/controls",
     "model_name": "HBoxModel",
     "state": {
      "_dom_classes": [],
      "_model_module": "@jupyter-widgets/controls",
      "_model_module_version": "1.5.0",
      "_model_name": "HBoxModel",
      "_view_count": null,
      "_view_module": "@jupyter-widgets/controls",
      "_view_module_version": "1.5.0",
      "_view_name": "HBoxView",
      "box_style": "",
      "children": [
       "IPY_MODEL_4111491e7ea54d239a2f7fb0d8bccb76",
       "IPY_MODEL_697f3c18c0ab48ed9e07ea42f1b1ffc4",
       "IPY_MODEL_4dfc579318d9497d925c19bb4746a34f"
      ],
      "layout": "IPY_MODEL_86e9fb83e3fa44c187bce32c5614283b"
     }
    },
    "ec68d3c88ec64f748589f55f3d313df6": {
     "model_module": "@jupyter-widgets/base",
     "model_name": "LayoutModel",
     "state": {
      "_model_module": "@jupyter-widgets/base",
      "_model_module_version": "1.2.0",
      "_model_name": "LayoutModel",
      "_view_count": null,
      "_view_module": "@jupyter-widgets/base",
      "_view_module_version": "1.2.0",
      "_view_name": "LayoutView",
      "align_content": null,
      "align_items": null,
      "align_self": null,
      "border": null,
      "bottom": null,
      "display": null,
      "flex": null,
      "flex_flow": null,
      "grid_area": null,
      "grid_auto_columns": null,
      "grid_auto_flow": null,
      "grid_auto_rows": null,
      "grid_column": null,
      "grid_gap": null,
      "grid_row": null,
      "grid_template_areas": null,
      "grid_template_columns": null,
      "grid_template_rows": null,
      "height": null,
      "justify_content": null,
      "justify_items": null,
      "left": null,
      "margin": null,
      "max_height": null,
      "max_width": null,
      "min_height": null,
      "min_width": null,
      "object_fit": null,
      "object_position": null,
      "order": null,
      "overflow": null,
      "overflow_x": null,
      "overflow_y": null,
      "padding": null,
      "right": null,
      "top": null,
      "visibility": null,
      "width": null
     }
    },
    "f585c669906b481d9be095572fc40732": {
     "model_module": "@jupyter-widgets/controls",
     "model_name": "HTMLModel",
     "state": {
      "_dom_classes": [],
      "_model_module": "@jupyter-widgets/controls",
      "_model_module_version": "1.5.0",
      "_model_name": "HTMLModel",
      "_view_count": null,
      "_view_module": "@jupyter-widgets/controls",
      "_view_module_version": "1.5.0",
      "_view_name": "HTMLView",
      "description": "",
      "description_tooltip": null,
      "layout": "IPY_MODEL_1586330ac32843729e4203610d57b236",
      "placeholder": "​",
      "style": "IPY_MODEL_8018d7c6884c4cdba71373fd31d79fd2",
      "value": " 28.0/28.0 [00:00&lt;00:00, 822B/s]"
     }
    },
    "fb425d117cf34ddf8f8151ffd471b46b": {
     "model_module": "@jupyter-widgets/controls",
     "model_name": "HBoxModel",
     "state": {
      "_dom_classes": [],
      "_model_module": "@jupyter-widgets/controls",
      "_model_module_version": "1.5.0",
      "_model_name": "HBoxModel",
      "_view_count": null,
      "_view_module": "@jupyter-widgets/controls",
      "_view_module_version": "1.5.0",
      "_view_name": "HBoxView",
      "box_style": "",
      "children": [
       "IPY_MODEL_6adeb0e45f214c1296f0c393358943e9",
       "IPY_MODEL_a2382bf9437e42b38952422b38b7a0e9",
       "IPY_MODEL_c56fb8b9bead46b89e01d55245409c62"
      ],
      "layout": "IPY_MODEL_6570c39ec0174a55977843f2663c8f31"
     }
    },
    "fd3ff679292e42358435bb8f6bc623be": {
     "model_module": "@jupyter-widgets/controls",
     "model_name": "DescriptionStyleModel",
     "state": {
      "_model_module": "@jupyter-widgets/controls",
      "_model_module_version": "1.5.0",
      "_model_name": "DescriptionStyleModel",
      "_view_count": null,
      "_view_module": "@jupyter-widgets/base",
      "_view_module_version": "1.2.0",
      "_view_name": "StyleView",
      "description_width": ""
     }
    }
   }
  }
 },
 "nbformat": 4,
 "nbformat_minor": 1
}
